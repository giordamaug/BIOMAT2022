{
 "cells": [
  {
   "cell_type": "markdown",
   "id": "f329c73f",
   "metadata": {},
   "source": [
    "# Load gene attributes"
   ]
  },
  {
   "cell_type": "code",
   "execution_count": 175,
   "id": "9f71e93f",
   "metadata": {},
   "outputs": [
    {
     "data": {
      "text/html": [
       "<table class=\"data-frame\"><thead><tr><th></th><th>name</th><th>label</th><th>label_wo_outliers</th></tr><tr><th></th><th>String</th><th>String3?</th><th>String3?</th></tr></thead><tbody><p>15 rows × 35 columns (omitted printing of 32 columns)</p><tr><th>1</th><td>(clone tec14)</td><td><em>missing</em></td><td><em>missing</em></td></tr><tr><th>2</th><td>100 kDa coactivator</td><td><em>missing</em></td><td><em>missing</em></td></tr><tr><th>3</th><td>14-3-3 tau splice variant</td><td><em>missing</em></td><td><em>missing</em></td></tr><tr><th>4</th><td>3-beta-hydroxysteroid dehydrogese</td><td><em>missing</em></td><td><em>missing</em></td></tr><tr><th>5</th><td>3-mercaptopyruvate sulfurtransferase variant</td><td><em>missing</em></td><td><em>missing</em></td></tr><tr><th>6</th><td>3'-phosphoadenosine-5'-phosphosulfate synthase</td><td><em>missing</em></td><td><em>missing</em></td></tr><tr><th>7</th><td>40S ribosomal protein S15a</td><td><em>missing</em></td><td><em>missing</em></td></tr><tr><th>8</th><td>5-aminoimidazole-4-carboxamide ribonucleotide formyltransferase</td><td><em>missing</em></td><td><em>missing</em></td></tr><tr><th>9</th><td>5'-3' exoribonuclease</td><td><em>missing</em></td><td><em>missing</em></td></tr><tr><th>10</th><td>6-O-methylguanine-D methyltransferase</td><td><em>missing</em></td><td><em>missing</em></td></tr><tr><th>11</th><td>A0A087WZY1</td><td><em>missing</em></td><td><em>missing</em></td></tr><tr><th>12</th><td>A0A0G2JLL6</td><td><em>missing</em></td><td><em>missing</em></td></tr><tr><th>13</th><td>A0A0J9YVX5</td><td><em>missing</em></td><td><em>missing</em></td></tr><tr><th>14</th><td>A0A1B0GUZ9</td><td><em>missing</em></td><td><em>missing</em></td></tr><tr><th>15</th><td>A0A1W2PNV4</td><td><em>missing</em></td><td><em>missing</em></td></tr></tbody></table>"
      ],
      "text/latex": [
       "\\begin{tabular}{r|cccc}\n",
       "\t& name & label & label\\_wo\\_outliers & \\\\\n",
       "\t\\hline\n",
       "\t& String & String3? & String3? & \\\\\n",
       "\t\\hline\n",
       "\t1 & (clone tec14) & \\emph{missing} & \\emph{missing} & $\\dots$ \\\\\n",
       "\t2 & 100 kDa coactivator & \\emph{missing} & \\emph{missing} & $\\dots$ \\\\\n",
       "\t3 & 14-3-3 tau splice variant & \\emph{missing} & \\emph{missing} & $\\dots$ \\\\\n",
       "\t4 & 3-beta-hydroxysteroid dehydrogese & \\emph{missing} & \\emph{missing} & $\\dots$ \\\\\n",
       "\t5 & 3-mercaptopyruvate sulfurtransferase variant & \\emph{missing} & \\emph{missing} & $\\dots$ \\\\\n",
       "\t6 & 3'-phosphoadenosine-5'-phosphosulfate synthase & \\emph{missing} & \\emph{missing} & $\\dots$ \\\\\n",
       "\t7 & 40S ribosomal protein S15a & \\emph{missing} & \\emph{missing} & $\\dots$ \\\\\n",
       "\t8 & 5-aminoimidazole-4-carboxamide ribonucleotide formyltransferase & \\emph{missing} & \\emph{missing} & $\\dots$ \\\\\n",
       "\t9 & 5'-3' exoribonuclease & \\emph{missing} & \\emph{missing} & $\\dots$ \\\\\n",
       "\t10 & 6-O-methylguanine-D methyltransferase & \\emph{missing} & \\emph{missing} & $\\dots$ \\\\\n",
       "\t11 & A0A087WZY1 & \\emph{missing} & \\emph{missing} & $\\dots$ \\\\\n",
       "\t12 & A0A0G2JLL6 & \\emph{missing} & \\emph{missing} & $\\dots$ \\\\\n",
       "\t13 & A0A0J9YVX5 & \\emph{missing} & \\emph{missing} & $\\dots$ \\\\\n",
       "\t14 & A0A1B0GUZ9 & \\emph{missing} & \\emph{missing} & $\\dots$ \\\\\n",
       "\t15 & A0A1W2PNV4 & \\emph{missing} & \\emph{missing} & $\\dots$ \\\\\n",
       "\\end{tabular}\n"
      ],
      "text/plain": [
       "15×35 DataFrame. Omitted printing of 34 columns\n",
       "│ Row │ name                                                            │\n",
       "│     │ \u001b[90mString\u001b[39m                                                          │\n",
       "├─────┼─────────────────────────────────────────────────────────────────┤\n",
       "│ 1   │ (clone tec14)                                                   │\n",
       "│ 2   │ 100 kDa coactivator                                             │\n",
       "│ 3   │ 14-3-3 tau splice variant                                       │\n",
       "│ 4   │ 3-beta-hydroxysteroid dehydrogese                               │\n",
       "│ 5   │ 3-mercaptopyruvate sulfurtransferase variant                    │\n",
       "│ 6   │ 3'-phosphoadenosine-5'-phosphosulfate synthase                  │\n",
       "│ 7   │ 40S ribosomal protein S15a                                      │\n",
       "│ 8   │ 5-aminoimidazole-4-carboxamide ribonucleotide formyltransferase │\n",
       "│ 9   │ 5'-3' exoribonuclease                                           │\n",
       "│ 10  │ 6-O-methylguanine-D methyltransferase                           │\n",
       "│ 11  │ A0A087WZY1                                                      │\n",
       "│ 12  │ A0A0G2JLL6                                                      │\n",
       "│ 13  │ A0A0J9YVX5                                                      │\n",
       "│ 14  │ A0A1B0GUZ9                                                      │\n",
       "│ 15  │ A0A1W2PNV4                                                      │"
      ]
     },
     "execution_count": 175,
     "metadata": {},
     "output_type": "execute_result"
    }
   ],
   "source": [
    "using CSV\n",
    "using DataFrames\n",
    "using Statistics\n",
    "\n",
    "df = CSV.File(\"../KIDNEY/node_attributes_noNA.csv\", typemap=Dict(Int => Float64)) |> DataFrame    # read the attribute file\n",
    "df = unique(df, :name)      # remove possible duplicated genes\n",
    "genenames = df[!, :name]\n",
    "first(df, 15)"
   ]
  },
  {
   "cell_type": "code",
   "execution_count": 176,
   "id": "922f4922",
   "metadata": {},
   "outputs": [
    {
     "data": {
      "text/html": [
       "<table class=\"data-frame\"><thead><tr><th></th><th>gene_length</th><th>transcript_count</th><th>gc_content</th><th>Gtex_kidney</th><th>gene_disease_ass_count</th></tr><tr><th></th><th>Float64</th><th>Float64</th><th>Float64</th><th>Float64</th><th>Float64</th></tr></thead><tbody><p>19,296 rows × 28 columns (omitted printing of 23 columns)</p><tr><th>1</th><td>70061.3</td><td>8.86662</td><td>46.6611</td><td>49.9335</td><td>8.87569</td></tr><tr><th>2</th><td>70061.3</td><td>8.86662</td><td>46.6611</td><td>49.9335</td><td>8.87569</td></tr><tr><th>3</th><td>70061.3</td><td>8.86662</td><td>46.6611</td><td>49.9335</td><td>8.87569</td></tr><tr><th>4</th><td>70061.3</td><td>8.86662</td><td>46.6611</td><td>49.9335</td><td>8.87569</td></tr><tr><th>5</th><td>70061.3</td><td>8.86662</td><td>46.6611</td><td>49.9335</td><td>8.87569</td></tr><tr><th>6</th><td>70061.3</td><td>8.86662</td><td>46.6611</td><td>49.9335</td><td>8.87569</td></tr><tr><th>7</th><td>70061.3</td><td>8.86662</td><td>46.6611</td><td>49.9335</td><td>8.87569</td></tr><tr><th>8</th><td>70061.3</td><td>8.86662</td><td>46.6611</td><td>49.9335</td><td>8.87569</td></tr><tr><th>9</th><td>70061.3</td><td>8.86662</td><td>46.6611</td><td>49.9335</td><td>8.87569</td></tr><tr><th>10</th><td>70061.3</td><td>8.86662</td><td>46.6611</td><td>49.9335</td><td>8.87569</td></tr><tr><th>11</th><td>70061.3</td><td>8.86662</td><td>46.6611</td><td>49.9335</td><td>8.87569</td></tr><tr><th>12</th><td>70061.3</td><td>8.86662</td><td>46.6611</td><td>49.9335</td><td>8.87569</td></tr><tr><th>13</th><td>70061.3</td><td>8.86662</td><td>46.6611</td><td>49.9335</td><td>8.87569</td></tr><tr><th>14</th><td>70061.3</td><td>8.86662</td><td>46.6611</td><td>49.9335</td><td>8.87569</td></tr><tr><th>15</th><td>70061.3</td><td>8.86662</td><td>46.6611</td><td>49.9335</td><td>8.87569</td></tr><tr><th>16</th><td>70061.3</td><td>8.86662</td><td>46.6611</td><td>49.9335</td><td>8.87569</td></tr><tr><th>17</th><td>8314.0</td><td>5.0</td><td>55.8</td><td>1.57333</td><td>2.0</td></tr><tr><th>18</th><td>86266.0</td><td>10.0</td><td>36.24</td><td>1.52435</td><td>8.87569</td></tr><tr><th>19</th><td>48565.0</td><td>13.0</td><td>37.18</td><td>259.888</td><td>26.0</td></tr><tr><th>20</th><td>64380.0</td><td>9.0</td><td>44.23</td><td>0.0394261</td><td>7.0</td></tr><tr><th>21</th><td>14332.0</td><td>1.0</td><td>54.19</td><td>0.109386</td><td>8.87569</td></tr><tr><th>22</th><td>29177.0</td><td>7.0</td><td>52.39</td><td>36.3178</td><td>3.0</td></tr><tr><th>23</th><td>8677.0</td><td>1.0</td><td>42.68</td><td>0.990216</td><td>8.87569</td></tr><tr><th>24</th><td>17408.0</td><td>22.0</td><td>49.39</td><td>34.6018</td><td>3.0</td></tr><tr><th>25</th><td>77899.0</td><td>12.0</td><td>51.2</td><td>10.2756</td><td>8.87569</td></tr><tr><th>26</th><td>14415.0</td><td>2.0</td><td>35.3</td><td>0.0270464</td><td>1.0</td></tr><tr><th>27</th><td>31477.0</td><td>8.0</td><td>38.78</td><td>3.02668</td><td>2.0</td></tr><tr><th>28</th><td>54528.0</td><td>7.0</td><td>39.47</td><td>19.5814</td><td>4.0</td></tr><tr><th>29</th><td>216352.0</td><td>13.0</td><td>41.95</td><td>4.86266</td><td>8.87569</td></tr><tr><th>30</th><td>97323.0</td><td>11.0</td><td>41.82</td><td>7.11967</td><td>8.87569</td></tr><tr><th>&vellip;</th><td>&vellip;</td><td>&vellip;</td><td>&vellip;</td><td>&vellip;</td><td>&vellip;</td></tr></tbody></table>"
      ],
      "text/latex": [
       "\\begin{tabular}{r|cccccc}\n",
       "\t& gene\\_length & transcript\\_count & gc\\_content & Gtex\\_kidney & gene\\_disease\\_ass\\_count & \\\\\n",
       "\t\\hline\n",
       "\t& Float64 & Float64 & Float64 & Float64 & Float64 & \\\\\n",
       "\t\\hline\n",
       "\t1 & 70061.3 & 8.86662 & 46.6611 & 49.9335 & 8.87569 & $\\dots$ \\\\\n",
       "\t2 & 70061.3 & 8.86662 & 46.6611 & 49.9335 & 8.87569 & $\\dots$ \\\\\n",
       "\t3 & 70061.3 & 8.86662 & 46.6611 & 49.9335 & 8.87569 & $\\dots$ \\\\\n",
       "\t4 & 70061.3 & 8.86662 & 46.6611 & 49.9335 & 8.87569 & $\\dots$ \\\\\n",
       "\t5 & 70061.3 & 8.86662 & 46.6611 & 49.9335 & 8.87569 & $\\dots$ \\\\\n",
       "\t6 & 70061.3 & 8.86662 & 46.6611 & 49.9335 & 8.87569 & $\\dots$ \\\\\n",
       "\t7 & 70061.3 & 8.86662 & 46.6611 & 49.9335 & 8.87569 & $\\dots$ \\\\\n",
       "\t8 & 70061.3 & 8.86662 & 46.6611 & 49.9335 & 8.87569 & $\\dots$ \\\\\n",
       "\t9 & 70061.3 & 8.86662 & 46.6611 & 49.9335 & 8.87569 & $\\dots$ \\\\\n",
       "\t10 & 70061.3 & 8.86662 & 46.6611 & 49.9335 & 8.87569 & $\\dots$ \\\\\n",
       "\t11 & 70061.3 & 8.86662 & 46.6611 & 49.9335 & 8.87569 & $\\dots$ \\\\\n",
       "\t12 & 70061.3 & 8.86662 & 46.6611 & 49.9335 & 8.87569 & $\\dots$ \\\\\n",
       "\t13 & 70061.3 & 8.86662 & 46.6611 & 49.9335 & 8.87569 & $\\dots$ \\\\\n",
       "\t14 & 70061.3 & 8.86662 & 46.6611 & 49.9335 & 8.87569 & $\\dots$ \\\\\n",
       "\t15 & 70061.3 & 8.86662 & 46.6611 & 49.9335 & 8.87569 & $\\dots$ \\\\\n",
       "\t16 & 70061.3 & 8.86662 & 46.6611 & 49.9335 & 8.87569 & $\\dots$ \\\\\n",
       "\t17 & 8314.0 & 5.0 & 55.8 & 1.57333 & 2.0 & $\\dots$ \\\\\n",
       "\t18 & 86266.0 & 10.0 & 36.24 & 1.52435 & 8.87569 & $\\dots$ \\\\\n",
       "\t19 & 48565.0 & 13.0 & 37.18 & 259.888 & 26.0 & $\\dots$ \\\\\n",
       "\t20 & 64380.0 & 9.0 & 44.23 & 0.0394261 & 7.0 & $\\dots$ \\\\\n",
       "\t21 & 14332.0 & 1.0 & 54.19 & 0.109386 & 8.87569 & $\\dots$ \\\\\n",
       "\t22 & 29177.0 & 7.0 & 52.39 & 36.3178 & 3.0 & $\\dots$ \\\\\n",
       "\t23 & 8677.0 & 1.0 & 42.68 & 0.990216 & 8.87569 & $\\dots$ \\\\\n",
       "\t24 & 17408.0 & 22.0 & 49.39 & 34.6018 & 3.0 & $\\dots$ \\\\\n",
       "\t25 & 77899.0 & 12.0 & 51.2 & 10.2756 & 8.87569 & $\\dots$ \\\\\n",
       "\t26 & 14415.0 & 2.0 & 35.3 & 0.0270464 & 1.0 & $\\dots$ \\\\\n",
       "\t27 & 31477.0 & 8.0 & 38.78 & 3.02668 & 2.0 & $\\dots$ \\\\\n",
       "\t28 & 54528.0 & 7.0 & 39.47 & 19.5814 & 4.0 & $\\dots$ \\\\\n",
       "\t29 & 216352.0 & 13.0 & 41.95 & 4.86266 & 8.87569 & $\\dots$ \\\\\n",
       "\t30 & 97323.0 & 11.0 & 41.82 & 7.11967 & 8.87569 & $\\dots$ \\\\\n",
       "\t$\\dots$ & $\\dots$ & $\\dots$ & $\\dots$ & $\\dots$ & $\\dots$ &  \\\\\n",
       "\\end{tabular}\n"
      ],
      "text/plain": [
       "19296×28 DataFrame. Omitted printing of 24 columns\n",
       "│ Row   │ gene_length │ transcript_count │ gc_content │ Gtex_kidney │\n",
       "│       │ \u001b[90mFloat64\u001b[39m     │ \u001b[90mFloat64\u001b[39m          │ \u001b[90mFloat64\u001b[39m    │ \u001b[90mFloat64\u001b[39m     │\n",
       "├───────┼─────────────┼──────────────────┼────────────┼─────────────┤\n",
       "│ 1     │ 70061.3     │ 8.86662          │ 46.6611    │ 49.9335     │\n",
       "│ 2     │ 70061.3     │ 8.86662          │ 46.6611    │ 49.9335     │\n",
       "│ 3     │ 70061.3     │ 8.86662          │ 46.6611    │ 49.9335     │\n",
       "│ 4     │ 70061.3     │ 8.86662          │ 46.6611    │ 49.9335     │\n",
       "│ 5     │ 70061.3     │ 8.86662          │ 46.6611    │ 49.9335     │\n",
       "│ 6     │ 70061.3     │ 8.86662          │ 46.6611    │ 49.9335     │\n",
       "│ 7     │ 70061.3     │ 8.86662          │ 46.6611    │ 49.9335     │\n",
       "│ 8     │ 70061.3     │ 8.86662          │ 46.6611    │ 49.9335     │\n",
       "│ 9     │ 70061.3     │ 8.86662          │ 46.6611    │ 49.9335     │\n",
       "│ 10    │ 70061.3     │ 8.86662          │ 46.6611    │ 49.9335     │\n",
       "⋮\n",
       "│ 19286 │ 40548.0     │ 3.0              │ 39.08      │ 8.11599     │\n",
       "│ 19287 │ 45171.0     │ 14.0             │ 40.27      │ 2.66495     │\n",
       "│ 19288 │ 4046.0      │ 9.0              │ 48.04      │ 4.17026     │\n",
       "│ 19289 │ 5028.0      │ 1.0              │ 46.77      │ 0.928434    │\n",
       "│ 19290 │ 5466.0      │ 1.0              │ 46.48      │ 2.66439     │\n",
       "│ 19291 │ 38290.0     │ 4.0              │ 48.66      │ 14.8347     │\n",
       "│ 19292 │ 52487.0     │ 3.0              │ 43.56      │ 0.544296    │\n",
       "│ 19293 │ 100883.0    │ 2.0              │ 41.29      │ 5.59548     │\n",
       "│ 19294 │ 9816.0      │ 10.0             │ 57.96      │ 63.7391     │\n",
       "│ 19295 │ 138585.0    │ 11.0             │ 44.49      │ 7.40771     │\n",
       "│ 19296 │ 121003.0    │ 11.0             │ 37.17      │ 5.52518     │"
      ]
     },
     "execution_count": 176,
     "metadata": {},
     "output_type": "execute_result"
    }
   ],
   "source": [
    "df = df[typeintersect.(colwise(eltype, df), Number) .!= Union{}]      # select only numeric attributes\n",
    "for col in eachcol(df)                                                # fix missing and naN with mean value\n",
    "    m = mean(collect(skipmissing(col)))\n",
    "    std = mean(collect(skipmissing(col)))\n",
    "    replace!(col, missing => m)\n",
    "    replace!(col, NaN => m)\n",
    "    convert.(Float64,col)\n",
    "end\n",
    "df = mapcols!(ByRow(Float64), df)                                  # convert Union{missing,Float64} to Float64 types"
   ]
  },
  {
   "cell_type": "markdown",
   "id": "3afd9645",
   "metadata": {},
   "source": [
    "### zscore attributes"
   ]
  },
  {
   "cell_type": "code",
   "execution_count": 177,
   "id": "9060ce6f",
   "metadata": {},
   "outputs": [
    {
     "data": {
      "text/plain": [
       "19296-element Vector{String}:\n",
       " \"(clone tec14)\"\n",
       " \"100 kDa coactivator\"\n",
       " \"14-3-3 tau splice variant\"\n",
       " \"3-beta-hydroxysteroid dehydrogese\"\n",
       " \"3-mercaptopyruvate sulfurtransferase variant\"\n",
       " \"3'-phosphoadenosine-5'-phosphosulfate synthase\"\n",
       " \"40S ribosomal protein S15a\"\n",
       " \"5-aminoimidazole-4-carboxamide ribonucleotide formyltransferase\"\n",
       " \"5'-3' exoribonuclease\"\n",
       " \"6-O-methylguanine-D methyltransferase\"\n",
       " \"A0A087WZY1\"\n",
       " \"A0A0G2JLL6\"\n",
       " \"A0A0J9YVX5\"\n",
       " ⋮\n",
       " \"ZUP1\"\n",
       " \"ZW10\"\n",
       " \"ZWILCH\"\n",
       " \"ZWINT\"\n",
       " \"ZXDA\"\n",
       " \"ZXDB\"\n",
       " \"ZXDC\"\n",
       " \"ZYG11A\"\n",
       " \"ZYG11B\"\n",
       " \"ZYX\"\n",
       " \"ZZEF1\"\n",
       " \"ZZZ3\""
      ]
     },
     "execution_count": 177,
     "metadata": {},
     "output_type": "execute_result"
    }
   ],
   "source": [
    "using StatsBase\n",
    "dt = fit(ZScoreTransform, Matrix(df), dims=2)\n",
    "x = StatsBase.transform(dt, Matrix(df)) #|> DataFrame\n",
    "df = DataFrame(x, names(df))\n",
    "df[!, :name] = genenames"
   ]
  },
  {
   "cell_type": "markdown",
   "id": "60fc7eb1",
   "metadata": {},
   "source": [
    "## Load labels"
   ]
  },
  {
   "cell_type": "code",
   "execution_count": 210,
   "id": "b55ee8f7",
   "metadata": {},
   "outputs": [
    {
     "data": {
      "text/html": [
       "<table class=\"data-frame\"><thead><tr><th></th><th>name</th><th>ACH-000159</th><th>ACH-000189</th><th>ACH-000234</th><th>ACH-000246</th><th>ACH-000250</th><th>ACH-000262</th></tr><tr><th></th><th>String15</th><th>String3</th><th>String3</th><th>String3</th><th>String3</th><th>String3</th><th>String3</th></tr></thead><tbody><p>17,386 rows × 32 columns (omitted printing of 25 columns)</p><tr><th>1</th><td>A1BG</td><td>aNE</td><td>NE</td><td>aNE</td><td>aNE</td><td>aNE</td><td>aNE</td></tr><tr><th>2</th><td>A1CF</td><td>aNE</td><td>NE</td><td>aNE</td><td>aNE</td><td>aNE</td><td>NE</td></tr><tr><th>3</th><td>A2M</td><td>NE</td><td>aNE</td><td>aNE</td><td>aNE</td><td>NE</td><td>NE</td></tr><tr><th>4</th><td>A2ML1</td><td>aNE</td><td>NE</td><td>NE</td><td>aNE</td><td>NE</td><td>NE</td></tr><tr><th>5</th><td>A3GALT2</td><td>NE</td><td>NE</td><td>aNE</td><td>aNE</td><td>aNE</td><td>aNE</td></tr><tr><th>6</th><td>A4GALT</td><td>NE</td><td>NE</td><td>aNE</td><td>aNE</td><td>aNE</td><td>NE</td></tr><tr><th>7</th><td>A4GNT</td><td>NE</td><td>aNE</td><td>aNE</td><td>aNE</td><td>NE</td><td>NE</td></tr><tr><th>8</th><td>AAAS</td><td>aNE</td><td>aNE</td><td>aNE</td><td>aNE</td><td>aNE</td><td>aNE</td></tr><tr><th>9</th><td>AACS</td><td>aNE</td><td>aNE</td><td>aNE</td><td>aNE</td><td>aNE</td><td>aNE</td></tr><tr><th>10</th><td>AADAC</td><td>NE</td><td>NE</td><td>aNE</td><td>NE</td><td>NE</td><td>aNE</td></tr><tr><th>11</th><td>AADACL2</td><td>aNE</td><td>NE</td><td>NE</td><td>aNE</td><td>aNE</td><td>aNE</td></tr><tr><th>12</th><td>AADACL3</td><td>NE</td><td>NE</td><td>NE</td><td>NE</td><td>NE</td><td>NE</td></tr><tr><th>13</th><td>AADACL4</td><td>NE</td><td>aNE</td><td>aNE</td><td>NE</td><td>NE</td><td>aNE</td></tr><tr><th>14</th><td>AADAT</td><td>aNE</td><td>aNE</td><td>aNE</td><td>aNE</td><td>aNE</td><td>NE</td></tr><tr><th>15</th><td>AAGAB</td><td>NE</td><td>NE</td><td>aNE</td><td>NE</td><td>NE</td><td>NE</td></tr><tr><th>16</th><td>AAK1</td><td>aNE</td><td>aNE</td><td>aNE</td><td>aNE</td><td>aNE</td><td>aNE</td></tr><tr><th>17</th><td>AAMDC</td><td>aNE</td><td>aNE</td><td>aNE</td><td>aNE</td><td>aNE</td><td>aNE</td></tr><tr><th>18</th><td>AAMP</td><td>E</td><td>aE</td><td>E</td><td>aE</td><td>aE</td><td>aE</td></tr><tr><th>19</th><td>AANAT</td><td>aNE</td><td>aNE</td><td>aNE</td><td>aNE</td><td>aNE</td><td>aNE</td></tr><tr><th>20</th><td>AAR2</td><td>NE</td><td>aNE</td><td>NE</td><td>NE</td><td>aNE</td><td>aNE</td></tr><tr><th>21</th><td>AARD</td><td>aNE</td><td>NE</td><td>aNE</td><td>aNE</td><td>aNE</td><td>aNE</td></tr><tr><th>22</th><td>AARS1</td><td>E</td><td>E</td><td>E</td><td>E</td><td>E</td><td>E</td></tr><tr><th>23</th><td>AARS2</td><td>aNE</td><td>aNE</td><td>aNE</td><td>aNE</td><td>aNE</td><td>aNE</td></tr><tr><th>24</th><td>AARSD1</td><td>aNE</td><td>aNE</td><td>aNE</td><td>aNE</td><td>aNE</td><td>aNE</td></tr><tr><th>25</th><td>AASDH</td><td>aNE</td><td>NE</td><td>NE</td><td>NE</td><td>aNE</td><td>aNE</td></tr><tr><th>26</th><td>AASDHPPT</td><td>NE</td><td>aNE</td><td>aNE</td><td>aNE</td><td>aNE</td><td>aNE</td></tr><tr><th>27</th><td>AASS</td><td>aNE</td><td>NE</td><td>NE</td><td>aNE</td><td>NE</td><td>aNE</td></tr><tr><th>28</th><td>AATF</td><td>E</td><td>aE</td><td>aE</td><td>E</td><td>aE</td><td>E</td></tr><tr><th>29</th><td>AATK</td><td>aNE</td><td>aNE</td><td>aNE</td><td>aNE</td><td>aNE</td><td>NE</td></tr><tr><th>30</th><td>ABAT</td><td>aNE</td><td>NE</td><td>aNE</td><td>aNE</td><td>aNE</td><td>aNE</td></tr><tr><th>&vellip;</th><td>&vellip;</td><td>&vellip;</td><td>&vellip;</td><td>&vellip;</td><td>&vellip;</td><td>&vellip;</td><td>&vellip;</td></tr></tbody></table>"
      ],
      "text/latex": [
       "\\begin{tabular}{r|cccccccc}\n",
       "\t& name & ACH-000159 & ACH-000189 & ACH-000234 & ACH-000246 & ACH-000250 & ACH-000262 & \\\\\n",
       "\t\\hline\n",
       "\t& String15 & String3 & String3 & String3 & String3 & String3 & String3 & \\\\\n",
       "\t\\hline\n",
       "\t1 & A1BG & aNE & NE & aNE & aNE & aNE & aNE & $\\dots$ \\\\\n",
       "\t2 & A1CF & aNE & NE & aNE & aNE & aNE & NE & $\\dots$ \\\\\n",
       "\t3 & A2M & NE & aNE & aNE & aNE & NE & NE & $\\dots$ \\\\\n",
       "\t4 & A2ML1 & aNE & NE & NE & aNE & NE & NE & $\\dots$ \\\\\n",
       "\t5 & A3GALT2 & NE & NE & aNE & aNE & aNE & aNE & $\\dots$ \\\\\n",
       "\t6 & A4GALT & NE & NE & aNE & aNE & aNE & NE & $\\dots$ \\\\\n",
       "\t7 & A4GNT & NE & aNE & aNE & aNE & NE & NE & $\\dots$ \\\\\n",
       "\t8 & AAAS & aNE & aNE & aNE & aNE & aNE & aNE & $\\dots$ \\\\\n",
       "\t9 & AACS & aNE & aNE & aNE & aNE & aNE & aNE & $\\dots$ \\\\\n",
       "\t10 & AADAC & NE & NE & aNE & NE & NE & aNE & $\\dots$ \\\\\n",
       "\t11 & AADACL2 & aNE & NE & NE & aNE & aNE & aNE & $\\dots$ \\\\\n",
       "\t12 & AADACL3 & NE & NE & NE & NE & NE & NE & $\\dots$ \\\\\n",
       "\t13 & AADACL4 & NE & aNE & aNE & NE & NE & aNE & $\\dots$ \\\\\n",
       "\t14 & AADAT & aNE & aNE & aNE & aNE & aNE & NE & $\\dots$ \\\\\n",
       "\t15 & AAGAB & NE & NE & aNE & NE & NE & NE & $\\dots$ \\\\\n",
       "\t16 & AAK1 & aNE & aNE & aNE & aNE & aNE & aNE & $\\dots$ \\\\\n",
       "\t17 & AAMDC & aNE & aNE & aNE & aNE & aNE & aNE & $\\dots$ \\\\\n",
       "\t18 & AAMP & E & aE & E & aE & aE & aE & $\\dots$ \\\\\n",
       "\t19 & AANAT & aNE & aNE & aNE & aNE & aNE & aNE & $\\dots$ \\\\\n",
       "\t20 & AAR2 & NE & aNE & NE & NE & aNE & aNE & $\\dots$ \\\\\n",
       "\t21 & AARD & aNE & NE & aNE & aNE & aNE & aNE & $\\dots$ \\\\\n",
       "\t22 & AARS1 & E & E & E & E & E & E & $\\dots$ \\\\\n",
       "\t23 & AARS2 & aNE & aNE & aNE & aNE & aNE & aNE & $\\dots$ \\\\\n",
       "\t24 & AARSD1 & aNE & aNE & aNE & aNE & aNE & aNE & $\\dots$ \\\\\n",
       "\t25 & AASDH & aNE & NE & NE & NE & aNE & aNE & $\\dots$ \\\\\n",
       "\t26 & AASDHPPT & NE & aNE & aNE & aNE & aNE & aNE & $\\dots$ \\\\\n",
       "\t27 & AASS & aNE & NE & NE & aNE & NE & aNE & $\\dots$ \\\\\n",
       "\t28 & AATF & E & aE & aE & E & aE & E & $\\dots$ \\\\\n",
       "\t29 & AATK & aNE & aNE & aNE & aNE & aNE & NE & $\\dots$ \\\\\n",
       "\t30 & ABAT & aNE & NE & aNE & aNE & aNE & aNE & $\\dots$ \\\\\n",
       "\t$\\dots$ & $\\dots$ & $\\dots$ & $\\dots$ & $\\dots$ & $\\dots$ & $\\dots$ & $\\dots$ &  \\\\\n",
       "\\end{tabular}\n"
      ],
      "text/plain": [
       "17386×32 DataFrame. Omitted printing of 27 columns\n",
       "│ Row   │ name     │ ACH-000159 │ ACH-000189 │ ACH-000234 │ ACH-000246 │\n",
       "│       │ \u001b[90mString15\u001b[39m │ \u001b[90mString3\u001b[39m    │ \u001b[90mString3\u001b[39m    │ \u001b[90mString3\u001b[39m    │ \u001b[90mString3\u001b[39m    │\n",
       "├───────┼──────────┼────────────┼────────────┼────────────┼────────────┤\n",
       "│ 1     │ A1BG     │ aNE        │ NE         │ aNE        │ aNE        │\n",
       "│ 2     │ A1CF     │ aNE        │ NE         │ aNE        │ aNE        │\n",
       "│ 3     │ A2M      │ NE         │ aNE        │ aNE        │ aNE        │\n",
       "│ 4     │ A2ML1    │ aNE        │ NE         │ NE         │ aNE        │\n",
       "│ 5     │ A3GALT2  │ NE         │ NE         │ aNE        │ aNE        │\n",
       "│ 6     │ A4GALT   │ NE         │ NE         │ aNE        │ aNE        │\n",
       "│ 7     │ A4GNT    │ NE         │ aNE        │ aNE        │ aNE        │\n",
       "│ 8     │ AAAS     │ aNE        │ aNE        │ aNE        │ aNE        │\n",
       "│ 9     │ AACS     │ aNE        │ aNE        │ aNE        │ aNE        │\n",
       "│ 10    │ AADAC    │ NE         │ NE         │ aNE        │ NE         │\n",
       "⋮\n",
       "│ 17376 │ ZW10     │ aNE        │ aNE        │ aNE        │ aNE        │\n",
       "│ 17377 │ ZWILCH   │ aNE        │ aNE        │ NE         │ aNE        │\n",
       "│ 17378 │ ZWINT    │ E          │ aE         │ aNE        │ aNE        │\n",
       "│ 17379 │ ZXDA     │ NE         │ NE         │ NE         │ aNE        │\n",
       "│ 17380 │ ZXDB     │ NE         │ NE         │ NE         │ aNE        │\n",
       "│ 17381 │ ZXDC     │ aNE        │ aNE        │ aNE        │ aNE        │\n",
       "│ 17382 │ ZYG11A   │ aNE        │ aNE        │ NE         │ NE         │\n",
       "│ 17383 │ ZYG11B   │ aNE        │ aNE        │ aNE        │ aNE        │\n",
       "│ 17384 │ ZYX      │ NE         │ aNE        │ NE         │ aNE        │\n",
       "│ 17385 │ ZZEF1    │ aNE        │ NE         │ aNE        │ aNE        │\n",
       "│ 17386 │ ZZZ3     │ aNE        │ aNE        │ aNE        │ aNE        │"
      ]
     },
     "execution_count": 210,
     "metadata": {},
     "output_type": "execute_result"
    }
   ],
   "source": [
    "dfl = CSV.File(\"../KIDNEY/node_labels.csv\", typemap=Dict(Int => Float64)) |> DataFrame    # read the attribute file\n",
    "dfl = unique(dfl, :name)         # remove gene duplicates\n",
    "dfl = filter(:most_freq => !ismissing, dfl)"
   ]
  },
  {
   "cell_type": "markdown",
   "id": "5f619f8d",
   "metadata": {},
   "source": [
    "## Select labels"
   ]
  },
  {
   "cell_type": "code",
   "execution_count": 211,
   "id": "37fdbb83",
   "metadata": {},
   "outputs": [
    {
     "data": {
      "text/html": [
       "<table class=\"data-frame\"><thead><tr><th></th><th>name</th><th>ACH-000159</th><th>ACH-000189</th><th>ACH-000234</th><th>ACH-000246</th><th>ACH-000250</th><th>ACH-000262</th></tr><tr><th></th><th>String15</th><th>String3</th><th>String3</th><th>String3</th><th>String3</th><th>String3</th><th>String3</th></tr></thead><tbody><p>6,014 rows × 32 columns (omitted printing of 25 columns)</p><tr><th>1</th><td>A2ML1</td><td>aNE</td><td>NE</td><td>NE</td><td>aNE</td><td>NE</td><td>NE</td></tr><tr><th>2</th><td>AADAC</td><td>NE</td><td>NE</td><td>aNE</td><td>NE</td><td>NE</td><td>aNE</td></tr><tr><th>3</th><td>AADACL3</td><td>NE</td><td>NE</td><td>NE</td><td>NE</td><td>NE</td><td>NE</td></tr><tr><th>4</th><td>AADACL4</td><td>NE</td><td>aNE</td><td>aNE</td><td>NE</td><td>NE</td><td>aNE</td></tr><tr><th>5</th><td>AAGAB</td><td>NE</td><td>NE</td><td>aNE</td><td>NE</td><td>NE</td><td>NE</td></tr><tr><th>6</th><td>AARS1</td><td>E</td><td>E</td><td>E</td><td>E</td><td>E</td><td>E</td></tr><tr><th>7</th><td>AASS</td><td>aNE</td><td>NE</td><td>NE</td><td>aNE</td><td>NE</td><td>aNE</td></tr><tr><th>8</th><td>ABCA10</td><td>aNE</td><td>NE</td><td>NE</td><td>NE</td><td>aNE</td><td>NE</td></tr><tr><th>9</th><td>ABCA7</td><td>NE</td><td>NE</td><td>aNE</td><td>aNE</td><td>NE</td><td>NE</td></tr><tr><th>10</th><td>ABCB7</td><td>aE</td><td>aE</td><td>aE</td><td>E</td><td>aE</td><td>E</td></tr><tr><th>11</th><td>ABCC1</td><td>NE</td><td>NE</td><td>aNE</td><td>NE</td><td>NE</td><td>aNE</td></tr><tr><th>12</th><td>ABCC11</td><td>NE</td><td>NE</td><td>NE</td><td>NE</td><td>NE</td><td>aNE</td></tr><tr><th>13</th><td>ABCC12</td><td>NE</td><td>NE</td><td>NE</td><td>NE</td><td>NE</td><td>aNE</td></tr><tr><th>14</th><td>ABCC4</td><td>NE</td><td>NE</td><td>NE</td><td>NE</td><td>NE</td><td>NE</td></tr><tr><th>15</th><td>ABCC8</td><td>aNE</td><td>aNE</td><td>NE</td><td>NE</td><td>NE</td><td>NE</td></tr><tr><th>16</th><td>ABCE1</td><td>E</td><td>E</td><td>E</td><td>E</td><td>E</td><td>E</td></tr><tr><th>17</th><td>ABCF1</td><td>E</td><td>aE</td><td>E</td><td>E</td><td>E</td><td>E</td></tr><tr><th>18</th><td>ABCF3</td><td>aNE</td><td>NE</td><td>aNE</td><td>aNE</td><td>NE</td><td>aNE</td></tr><tr><th>19</th><td>ABCG2</td><td>aNE</td><td>aNE</td><td>aNE</td><td>NE</td><td>NE</td><td>aNE</td></tr><tr><th>20</th><td>ABCG4</td><td>NE</td><td>NE</td><td>aNE</td><td>NE</td><td>NE</td><td>NE</td></tr><tr><th>21</th><td>ABCG8</td><td>NE</td><td>aNE</td><td>NE</td><td>aNE</td><td>aNE</td><td>aNE</td></tr><tr><th>22</th><td>ABHD12B</td><td>aNE</td><td>NE</td><td>NE</td><td>NE</td><td>NE</td><td>NE</td></tr><tr><th>23</th><td>ABHD14B</td><td>aNE</td><td>NE</td><td>aNE</td><td>NE</td><td>NE</td><td>aNE</td></tr><tr><th>24</th><td>ABHD16A</td><td>NE</td><td>aNE</td><td>aNE</td><td>aNE</td><td>aNE</td><td>NE</td></tr><tr><th>25</th><td>ABHD16B</td><td>NE</td><td>aNE</td><td>aNE</td><td>NE</td><td>NE</td><td>aNE</td></tr><tr><th>26</th><td>ABHD17B</td><td>NE</td><td>aNE</td><td>aNE</td><td>NE</td><td>NE</td><td>aNE</td></tr><tr><th>27</th><td>ABHD17C</td><td>NE</td><td>NE</td><td>aNE</td><td>NE</td><td>NE</td><td>aNE</td></tr><tr><th>28</th><td>ABHD18</td><td>aNE</td><td>aNE</td><td>NE</td><td>NE</td><td>NE</td><td>NE</td></tr><tr><th>29</th><td>ABHD4</td><td>NE</td><td>NE</td><td>NE</td><td>NE</td><td>NE</td><td>NE</td></tr><tr><th>30</th><td>ABHD5</td><td>NE</td><td>aNE</td><td>aNE</td><td>NE</td><td>aNE</td><td>NE</td></tr><tr><th>&vellip;</th><td>&vellip;</td><td>&vellip;</td><td>&vellip;</td><td>&vellip;</td><td>&vellip;</td><td>&vellip;</td><td>&vellip;</td></tr></tbody></table>"
      ],
      "text/latex": [
       "\\begin{tabular}{r|cccccccc}\n",
       "\t& name & ACH-000159 & ACH-000189 & ACH-000234 & ACH-000246 & ACH-000250 & ACH-000262 & \\\\\n",
       "\t\\hline\n",
       "\t& String15 & String3 & String3 & String3 & String3 & String3 & String3 & \\\\\n",
       "\t\\hline\n",
       "\t1 & A2ML1 & aNE & NE & NE & aNE & NE & NE & $\\dots$ \\\\\n",
       "\t2 & AADAC & NE & NE & aNE & NE & NE & aNE & $\\dots$ \\\\\n",
       "\t3 & AADACL3 & NE & NE & NE & NE & NE & NE & $\\dots$ \\\\\n",
       "\t4 & AADACL4 & NE & aNE & aNE & NE & NE & aNE & $\\dots$ \\\\\n",
       "\t5 & AAGAB & NE & NE & aNE & NE & NE & NE & $\\dots$ \\\\\n",
       "\t6 & AARS1 & E & E & E & E & E & E & $\\dots$ \\\\\n",
       "\t7 & AASS & aNE & NE & NE & aNE & NE & aNE & $\\dots$ \\\\\n",
       "\t8 & ABCA10 & aNE & NE & NE & NE & aNE & NE & $\\dots$ \\\\\n",
       "\t9 & ABCA7 & NE & NE & aNE & aNE & NE & NE & $\\dots$ \\\\\n",
       "\t10 & ABCB7 & aE & aE & aE & E & aE & E & $\\dots$ \\\\\n",
       "\t11 & ABCC1 & NE & NE & aNE & NE & NE & aNE & $\\dots$ \\\\\n",
       "\t12 & ABCC11 & NE & NE & NE & NE & NE & aNE & $\\dots$ \\\\\n",
       "\t13 & ABCC12 & NE & NE & NE & NE & NE & aNE & $\\dots$ \\\\\n",
       "\t14 & ABCC4 & NE & NE & NE & NE & NE & NE & $\\dots$ \\\\\n",
       "\t15 & ABCC8 & aNE & aNE & NE & NE & NE & NE & $\\dots$ \\\\\n",
       "\t16 & ABCE1 & E & E & E & E & E & E & $\\dots$ \\\\\n",
       "\t17 & ABCF1 & E & aE & E & E & E & E & $\\dots$ \\\\\n",
       "\t18 & ABCF3 & aNE & NE & aNE & aNE & NE & aNE & $\\dots$ \\\\\n",
       "\t19 & ABCG2 & aNE & aNE & aNE & NE & NE & aNE & $\\dots$ \\\\\n",
       "\t20 & ABCG4 & NE & NE & aNE & NE & NE & NE & $\\dots$ \\\\\n",
       "\t21 & ABCG8 & NE & aNE & NE & aNE & aNE & aNE & $\\dots$ \\\\\n",
       "\t22 & ABHD12B & aNE & NE & NE & NE & NE & NE & $\\dots$ \\\\\n",
       "\t23 & ABHD14B & aNE & NE & aNE & NE & NE & aNE & $\\dots$ \\\\\n",
       "\t24 & ABHD16A & NE & aNE & aNE & aNE & aNE & NE & $\\dots$ \\\\\n",
       "\t25 & ABHD16B & NE & aNE & aNE & NE & NE & aNE & $\\dots$ \\\\\n",
       "\t26 & ABHD17B & NE & aNE & aNE & NE & NE & aNE & $\\dots$ \\\\\n",
       "\t27 & ABHD17C & NE & NE & aNE & NE & NE & aNE & $\\dots$ \\\\\n",
       "\t28 & ABHD18 & aNE & aNE & NE & NE & NE & NE & $\\dots$ \\\\\n",
       "\t29 & ABHD4 & NE & NE & NE & NE & NE & NE & $\\dots$ \\\\\n",
       "\t30 & ABHD5 & NE & aNE & aNE & NE & aNE & NE & $\\dots$ \\\\\n",
       "\t$\\dots$ & $\\dots$ & $\\dots$ & $\\dots$ & $\\dots$ & $\\dots$ & $\\dots$ & $\\dots$ &  \\\\\n",
       "\\end{tabular}\n"
      ],
      "text/plain": [
       "6014×32 DataFrame. Omitted printing of 27 columns\n",
       "│ Row  │ name     │ ACH-000159 │ ACH-000189 │ ACH-000234 │ ACH-000246 │\n",
       "│      │ \u001b[90mString15\u001b[39m │ \u001b[90mString3\u001b[39m    │ \u001b[90mString3\u001b[39m    │ \u001b[90mString3\u001b[39m    │ \u001b[90mString3\u001b[39m    │\n",
       "├──────┼──────────┼────────────┼────────────┼────────────┼────────────┤\n",
       "│ 1    │ A2ML1    │ aNE        │ NE         │ NE         │ aNE        │\n",
       "│ 2    │ AADAC    │ NE         │ NE         │ aNE        │ NE         │\n",
       "│ 3    │ AADACL3  │ NE         │ NE         │ NE         │ NE         │\n",
       "│ 4    │ AADACL4  │ NE         │ aNE        │ aNE        │ NE         │\n",
       "│ 5    │ AAGAB    │ NE         │ NE         │ aNE        │ NE         │\n",
       "│ 6    │ AARS1    │ E          │ E          │ E          │ E          │\n",
       "│ 7    │ AASS     │ aNE        │ NE         │ NE         │ aNE        │\n",
       "│ 8    │ ABCA10   │ aNE        │ NE         │ NE         │ NE         │\n",
       "│ 9    │ ABCA7    │ NE         │ NE         │ aNE        │ aNE        │\n",
       "│ 10   │ ABCB7    │ aE         │ aE         │ aE         │ E          │\n",
       "⋮\n",
       "│ 6004 │ ZRSR2    │ aNE        │ E          │ aE         │ E          │\n",
       "│ 6005 │ ZSCAN23  │ NE         │ aNE        │ NE         │ NE         │\n",
       "│ 6006 │ ZSCAN31  │ NE         │ NE         │ aNE        │ aNE        │\n",
       "│ 6007 │ ZSCAN4   │ NE         │ NE         │ NE         │ NE         │\n",
       "│ 6008 │ ZSCAN5A  │ aNE        │ NE         │ NE         │ aNE        │\n",
       "│ 6009 │ ZSCAN9   │ NE         │ NE         │ aNE        │ NE         │\n",
       "│ 6010 │ ZSWIM2   │ NE         │ NE         │ aNE        │ NE         │\n",
       "│ 6011 │ ZSWIM3   │ NE         │ aNE        │ NE         │ NE         │\n",
       "│ 6012 │ ZSWIM6   │ aNE        │ aNE        │ aNE        │ aNE        │\n",
       "│ 6013 │ ZXDA     │ NE         │ NE         │ NE         │ aNE        │\n",
       "│ 6014 │ ZXDB     │ NE         │ NE         │ NE         │ aNE        │"
      ]
     },
     "execution_count": 211,
     "metadata": {},
     "output_type": "execute_result"
    }
   ],
   "source": [
    "dfl = filter(row -> row.most_freq ∈ [\"E\",\"NE\"], dfl)"
   ]
  },
  {
   "cell_type": "code",
   "execution_count": 212,
   "id": "011d34cc",
   "metadata": {},
   "outputs": [
    {
     "data": {
      "text/html": [
       "<table class=\"data-frame\"><thead><tr><th></th><th>name</th><th>most_freq</th><th>gene_length</th><th>transcript_count</th><th>gc_content</th><th>Gtex_kidney</th><th>gene_disease_ass_count</th></tr><tr><th></th><th>String15</th><th>String3</th><th>Float64</th><th>Float64</th><th>Float64</th><th>Float64</th><th>Float64</th></tr></thead><tbody><p>5,661 rows × 30 columns (omitted printing of 23 columns)</p><tr><th>1</th><td>A2ML1</td><td>NE</td><td>5.1025</td><td>-0.18949</td><td>-0.186594</td><td>-0.190227</td><td>-0.189655</td></tr><tr><th>2</th><td>AADAC</td><td>NE</td><td>5.1021</td><td>-0.191903</td><td>-0.179672</td><td>-0.192628</td><td>-0.192271</td></tr><tr><th>3</th><td>AAGAB</td><td>NE</td><td>5.10242</td><td>-0.19044</td><td>-0.187288</td><td>-0.189219</td><td>-0.190731</td></tr><tr><th>4</th><td>AARS1</td><td>E</td><td>5.10231</td><td>-0.186921</td><td>-0.185857</td><td>-0.185807</td><td>-0.192535</td></tr><tr><th>5</th><td>AASS</td><td>NE</td><td>5.10247</td><td>-0.188652</td><td>-0.188019</td><td>-0.189985</td><td>-0.189515</td></tr><tr><th>6</th><td>ABCA10</td><td>NE</td><td>5.10252</td><td>-0.18866</td><td>-0.187407</td><td>-0.189302</td><td>-0.189257</td></tr><tr><th>7</th><td>ABCA7</td><td>NE</td><td>5.10233</td><td>-0.188907</td><td>-0.180102</td><td>-0.191129</td><td>-0.190564</td></tr><tr><th>8</th><td>ABCB7</td><td>E</td><td>5.10249</td><td>-0.189417</td><td>-0.188465</td><td>-0.189763</td><td>-0.189817</td></tr><tr><th>9</th><td>ABCC1</td><td>NE</td><td>5.10251</td><td>-0.18946</td><td>-0.188325</td><td>-0.189396</td><td>-0.189104</td></tr><tr><th>10</th><td>ABCC11</td><td>NE</td><td>5.10251</td><td>-0.189012</td><td>-0.186644</td><td>-0.189591</td><td>-0.189529</td></tr><tr><th>11</th><td>ABCC12</td><td>NE</td><td>5.10249</td><td>-0.189134</td><td>-0.186792</td><td>-0.19012</td><td>-0.189909</td></tr><tr><th>12</th><td>ABCC4</td><td>NE</td><td>5.10252</td><td>-0.189158</td><td>-0.188663</td><td>-0.189313</td><td>-0.189045</td></tr><tr><th>13</th><td>ABCC8</td><td>NE</td><td>5.10248</td><td>-0.184339</td><td>-0.187473</td><td>-0.190573</td><td>-0.189356</td></tr><tr><th>14</th><td>ABCE1</td><td>E</td><td>5.10197</td><td>-0.192763</td><td>-0.188568</td><td>-0.192066</td><td>-0.194119</td></tr><tr><th>15</th><td>ABCF1</td><td>E</td><td>5.10218</td><td>-0.192432</td><td>-0.184031</td><td>-0.187366</td><td>-0.192432</td></tr><tr><th>16</th><td>ABCF3</td><td>NE</td><td>5.09756</td><td>-0.19416</td><td>-0.171544</td><td>-0.185288</td><td>-0.200273</td></tr><tr><th>17</th><td>ABCG2</td><td>NE</td><td>5.10251</td><td>-0.189435</td><td>-0.188074</td><td>-0.189568</td><td>-0.188537</td></tr><tr><th>18</th><td>ABCG4</td><td>NE</td><td>5.10089</td><td>-0.194513</td><td>-0.175637</td><td>-0.196707</td><td>-0.193393</td></tr><tr><th>19</th><td>ABCG8</td><td>NE</td><td>5.10241</td><td>-0.190708</td><td>-0.186226</td><td>-0.191004</td><td>-0.189671</td></tr><tr><th>20</th><td>ABHD12B</td><td>NE</td><td>5.10239</td><td>-0.189844</td><td>-0.184388</td><td>-0.19127</td><td>-0.191131</td></tr><tr><th>21</th><td>ABHD14B</td><td>NE</td><td>5.10146</td><td>-0.194702</td><td>-0.177968</td><td>-0.174755</td><td>-0.194391</td></tr><tr><th>22</th><td>ABHD16A</td><td>NE</td><td>5.10184</td><td>-0.191207</td><td>-0.179509</td><td>-0.187787</td><td>-0.192855</td></tr><tr><th>23</th><td>ABHD16B</td><td>NE</td><td>5.06254</td><td>-0.236674</td><td>0.00849928</td><td>-0.062524</td><td>-0.208645</td></tr><tr><th>24</th><td>ABHD17B</td><td>NE</td><td>5.1024</td><td>-0.191043</td><td>-0.187118</td><td>-0.190545</td><td>-0.190297</td></tr><tr><th>25</th><td>ABHD17C</td><td>NE</td><td>5.10248</td><td>-0.189921</td><td>-0.187276</td><td>-0.189571</td><td>-0.18965</td></tr><tr><th>26</th><td>ABHD18</td><td>NE</td><td>5.10247</td><td>-0.189838</td><td>-0.187512</td><td>-0.190057</td><td>-0.189705</td></tr><tr><th>27</th><td>ABHD4</td><td>NE</td><td>5.10181</td><td>-0.191375</td><td>-0.177535</td><td>-0.185555</td><td>-0.191781</td></tr><tr><th>28</th><td>ABHD5</td><td>NE</td><td>5.10238</td><td>-0.189431</td><td>-0.18653</td><td>-0.190423</td><td>-0.191106</td></tr><tr><th>29</th><td>ABHD6</td><td>NE</td><td>5.10247</td><td>-0.190015</td><td>-0.186549</td><td>-0.190098</td><td>-0.189845</td></tr><tr><th>30</th><td>ABHD8</td><td>NE</td><td>5.10171</td><td>-0.193514</td><td>-0.178332</td><td>-0.191448</td><td>-0.191795</td></tr><tr><th>&vellip;</th><td>&vellip;</td><td>&vellip;</td><td>&vellip;</td><td>&vellip;</td><td>&vellip;</td><td>&vellip;</td><td>&vellip;</td></tr></tbody></table>"
      ],
      "text/latex": [
       "\\begin{tabular}{r|cccccccc}\n",
       "\t& name & most\\_freq & gene\\_length & transcript\\_count & gc\\_content & Gtex\\_kidney & gene\\_disease\\_ass\\_count & \\\\\n",
       "\t\\hline\n",
       "\t& String15 & String3 & Float64 & Float64 & Float64 & Float64 & Float64 & \\\\\n",
       "\t\\hline\n",
       "\t1 & A2ML1 & NE & 5.1025 & -0.18949 & -0.186594 & -0.190227 & -0.189655 & $\\dots$ \\\\\n",
       "\t2 & AADAC & NE & 5.1021 & -0.191903 & -0.179672 & -0.192628 & -0.192271 & $\\dots$ \\\\\n",
       "\t3 & AAGAB & NE & 5.10242 & -0.19044 & -0.187288 & -0.189219 & -0.190731 & $\\dots$ \\\\\n",
       "\t4 & AARS1 & E & 5.10231 & -0.186921 & -0.185857 & -0.185807 & -0.192535 & $\\dots$ \\\\\n",
       "\t5 & AASS & NE & 5.10247 & -0.188652 & -0.188019 & -0.189985 & -0.189515 & $\\dots$ \\\\\n",
       "\t6 & ABCA10 & NE & 5.10252 & -0.18866 & -0.187407 & -0.189302 & -0.189257 & $\\dots$ \\\\\n",
       "\t7 & ABCA7 & NE & 5.10233 & -0.188907 & -0.180102 & -0.191129 & -0.190564 & $\\dots$ \\\\\n",
       "\t8 & ABCB7 & E & 5.10249 & -0.189417 & -0.188465 & -0.189763 & -0.189817 & $\\dots$ \\\\\n",
       "\t9 & ABCC1 & NE & 5.10251 & -0.18946 & -0.188325 & -0.189396 & -0.189104 & $\\dots$ \\\\\n",
       "\t10 & ABCC11 & NE & 5.10251 & -0.189012 & -0.186644 & -0.189591 & -0.189529 & $\\dots$ \\\\\n",
       "\t11 & ABCC12 & NE & 5.10249 & -0.189134 & -0.186792 & -0.19012 & -0.189909 & $\\dots$ \\\\\n",
       "\t12 & ABCC4 & NE & 5.10252 & -0.189158 & -0.188663 & -0.189313 & -0.189045 & $\\dots$ \\\\\n",
       "\t13 & ABCC8 & NE & 5.10248 & -0.184339 & -0.187473 & -0.190573 & -0.189356 & $\\dots$ \\\\\n",
       "\t14 & ABCE1 & E & 5.10197 & -0.192763 & -0.188568 & -0.192066 & -0.194119 & $\\dots$ \\\\\n",
       "\t15 & ABCF1 & E & 5.10218 & -0.192432 & -0.184031 & -0.187366 & -0.192432 & $\\dots$ \\\\\n",
       "\t16 & ABCF3 & NE & 5.09756 & -0.19416 & -0.171544 & -0.185288 & -0.200273 & $\\dots$ \\\\\n",
       "\t17 & ABCG2 & NE & 5.10251 & -0.189435 & -0.188074 & -0.189568 & -0.188537 & $\\dots$ \\\\\n",
       "\t18 & ABCG4 & NE & 5.10089 & -0.194513 & -0.175637 & -0.196707 & -0.193393 & $\\dots$ \\\\\n",
       "\t19 & ABCG8 & NE & 5.10241 & -0.190708 & -0.186226 & -0.191004 & -0.189671 & $\\dots$ \\\\\n",
       "\t20 & ABHD12B & NE & 5.10239 & -0.189844 & -0.184388 & -0.19127 & -0.191131 & $\\dots$ \\\\\n",
       "\t21 & ABHD14B & NE & 5.10146 & -0.194702 & -0.177968 & -0.174755 & -0.194391 & $\\dots$ \\\\\n",
       "\t22 & ABHD16A & NE & 5.10184 & -0.191207 & -0.179509 & -0.187787 & -0.192855 & $\\dots$ \\\\\n",
       "\t23 & ABHD16B & NE & 5.06254 & -0.236674 & 0.00849928 & -0.062524 & -0.208645 & $\\dots$ \\\\\n",
       "\t24 & ABHD17B & NE & 5.1024 & -0.191043 & -0.187118 & -0.190545 & -0.190297 & $\\dots$ \\\\\n",
       "\t25 & ABHD17C & NE & 5.10248 & -0.189921 & -0.187276 & -0.189571 & -0.18965 & $\\dots$ \\\\\n",
       "\t26 & ABHD18 & NE & 5.10247 & -0.189838 & -0.187512 & -0.190057 & -0.189705 & $\\dots$ \\\\\n",
       "\t27 & ABHD4 & NE & 5.10181 & -0.191375 & -0.177535 & -0.185555 & -0.191781 & $\\dots$ \\\\\n",
       "\t28 & ABHD5 & NE & 5.10238 & -0.189431 & -0.18653 & -0.190423 & -0.191106 & $\\dots$ \\\\\n",
       "\t29 & ABHD6 & NE & 5.10247 & -0.190015 & -0.186549 & -0.190098 & -0.189845 & $\\dots$ \\\\\n",
       "\t30 & ABHD8 & NE & 5.10171 & -0.193514 & -0.178332 & -0.191448 & -0.191795 & $\\dots$ \\\\\n",
       "\t$\\dots$ & $\\dots$ & $\\dots$ & $\\dots$ & $\\dots$ & $\\dots$ & $\\dots$ & $\\dots$ &  \\\\\n",
       "\\end{tabular}\n"
      ],
      "text/plain": [
       "5661×30 DataFrame. Omitted printing of 25 columns\n",
       "│ Row  │ name     │ most_freq │ gene_length │ transcript_count │ gc_content │\n",
       "│      │ \u001b[90mString15\u001b[39m │ \u001b[90mString3\u001b[39m   │ \u001b[90mFloat64\u001b[39m     │ \u001b[90mFloat64\u001b[39m          │ \u001b[90mFloat64\u001b[39m    │\n",
       "├──────┼──────────┼───────────┼─────────────┼──────────────────┼────────────┤\n",
       "│ 1    │ A2ML1    │ NE        │ 5.1025      │ -0.18949         │ -0.186594  │\n",
       "│ 2    │ AADAC    │ NE        │ 5.1021      │ -0.191903        │ -0.179672  │\n",
       "│ 3    │ AAGAB    │ NE        │ 5.10242     │ -0.19044         │ -0.187288  │\n",
       "│ 4    │ AARS1    │ E         │ 5.10231     │ -0.186921        │ -0.185857  │\n",
       "│ 5    │ AASS     │ NE        │ 5.10247     │ -0.188652        │ -0.188019  │\n",
       "│ 6    │ ABCA10   │ NE        │ 5.10252     │ -0.18866         │ -0.187407  │\n",
       "│ 7    │ ABCA7    │ NE        │ 5.10233     │ -0.188907        │ -0.180102  │\n",
       "│ 8    │ ABCB7    │ E         │ 5.10249     │ -0.189417        │ -0.188465  │\n",
       "│ 9    │ ABCC1    │ NE        │ 5.10251     │ -0.18946         │ -0.188325  │\n",
       "│ 10   │ ABCC11   │ NE        │ 5.10251     │ -0.189012        │ -0.186644  │\n",
       "⋮\n",
       "│ 5651 │ ZRSR2    │ E         │ 5.10234     │ -0.191031        │ -0.186545  │\n",
       "│ 5652 │ ZSCAN23  │ NE        │ 5.10235     │ -0.191168        │ -0.174303  │\n",
       "│ 5653 │ ZSCAN31  │ NE        │ 5.1025      │ -0.187217        │ -0.183481  │\n",
       "│ 5654 │ ZSCAN4   │ NE        │ 5.10231     │ -0.192232        │ -0.171211  │\n",
       "│ 5655 │ ZSCAN5A  │ NE        │ 5.10252     │ -0.188531        │ -0.187603  │\n",
       "│ 5656 │ ZSCAN9   │ NE        │ 5.10223     │ -0.188607        │ -0.167418  │\n",
       "│ 5657 │ ZSWIM2   │ NE        │ 5.10218     │ -0.19188         │ -0.184411  │\n",
       "│ 5658 │ ZSWIM3   │ NE        │ 5.10226     │ -0.192346        │ -0.181133  │\n",
       "│ 5659 │ ZSWIM6   │ NE        │ 5.10252     │ -0.189404        │ -0.188484  │\n",
       "│ 5660 │ ZXDA     │ NE        │ 5.10222     │ -0.192777        │ -0.144567  │\n",
       "│ 5661 │ ZXDB     │ NE        │ 5.10211     │ -0.194626        │ -0.150547  │"
      ]
     },
     "execution_count": 212,
     "metadata": {},
     "output_type": "execute_result"
    }
   ],
   "source": [
    "genenames = dfl[!, :name]\n",
    "dfall = innerjoin(dfl,df; on=:name)[!, Not(r\"ACH-\")]         # join labels and attributes dataframes"
   ]
  },
  {
   "cell_type": "markdown",
   "id": "66babace",
   "metadata": {},
   "source": [
    "# Load embedding"
   ]
  },
  {
   "cell_type": "code",
   "execution_count": 213,
   "id": "64c70959",
   "metadata": {},
   "outputs": [
    {
     "data": {
      "text/html": [
       "<table class=\"data-frame\"><thead><tr><th></th><th>name</th><th>most_freq</th><th>gene_length</th><th>transcript_count</th><th>gc_content</th><th>Gtex_kidney</th><th>gene_disease_ass_count</th></tr><tr><th></th><th>String15</th><th>String3</th><th>Float64</th><th>Float64</th><th>Float64</th><th>Float64</th><th>Float64</th></tr></thead><tbody><p>5,661 rows × 94 columns (omitted printing of 87 columns)</p><tr><th>1</th><td>A2ML1</td><td>NE</td><td>5.1025</td><td>-0.18949</td><td>-0.186594</td><td>-0.190227</td><td>-0.189655</td></tr><tr><th>2</th><td>AADAC</td><td>NE</td><td>5.1021</td><td>-0.191903</td><td>-0.179672</td><td>-0.192628</td><td>-0.192271</td></tr><tr><th>3</th><td>AAGAB</td><td>NE</td><td>5.10242</td><td>-0.19044</td><td>-0.187288</td><td>-0.189219</td><td>-0.190731</td></tr><tr><th>4</th><td>AARS1</td><td>E</td><td>5.10231</td><td>-0.186921</td><td>-0.185857</td><td>-0.185807</td><td>-0.192535</td></tr><tr><th>5</th><td>AASS</td><td>NE</td><td>5.10247</td><td>-0.188652</td><td>-0.188019</td><td>-0.189985</td><td>-0.189515</td></tr><tr><th>6</th><td>ABCA10</td><td>NE</td><td>5.10252</td><td>-0.18866</td><td>-0.187407</td><td>-0.189302</td><td>-0.189257</td></tr><tr><th>7</th><td>ABCA7</td><td>NE</td><td>5.10233</td><td>-0.188907</td><td>-0.180102</td><td>-0.191129</td><td>-0.190564</td></tr><tr><th>8</th><td>ABCB7</td><td>E</td><td>5.10249</td><td>-0.189417</td><td>-0.188465</td><td>-0.189763</td><td>-0.189817</td></tr><tr><th>9</th><td>ABCC1</td><td>NE</td><td>5.10251</td><td>-0.18946</td><td>-0.188325</td><td>-0.189396</td><td>-0.189104</td></tr><tr><th>10</th><td>ABCC11</td><td>NE</td><td>5.10251</td><td>-0.189012</td><td>-0.186644</td><td>-0.189591</td><td>-0.189529</td></tr><tr><th>11</th><td>ABCC12</td><td>NE</td><td>5.10249</td><td>-0.189134</td><td>-0.186792</td><td>-0.19012</td><td>-0.189909</td></tr><tr><th>12</th><td>ABCC4</td><td>NE</td><td>5.10252</td><td>-0.189158</td><td>-0.188663</td><td>-0.189313</td><td>-0.189045</td></tr><tr><th>13</th><td>ABCC8</td><td>NE</td><td>5.10248</td><td>-0.184339</td><td>-0.187473</td><td>-0.190573</td><td>-0.189356</td></tr><tr><th>14</th><td>ABCE1</td><td>E</td><td>5.10197</td><td>-0.192763</td><td>-0.188568</td><td>-0.192066</td><td>-0.194119</td></tr><tr><th>15</th><td>ABCF1</td><td>E</td><td>5.10218</td><td>-0.192432</td><td>-0.184031</td><td>-0.187366</td><td>-0.192432</td></tr><tr><th>16</th><td>ABCF3</td><td>NE</td><td>5.09756</td><td>-0.19416</td><td>-0.171544</td><td>-0.185288</td><td>-0.200273</td></tr><tr><th>17</th><td>ABCG2</td><td>NE</td><td>5.10251</td><td>-0.189435</td><td>-0.188074</td><td>-0.189568</td><td>-0.188537</td></tr><tr><th>18</th><td>ABCG4</td><td>NE</td><td>5.10089</td><td>-0.194513</td><td>-0.175637</td><td>-0.196707</td><td>-0.193393</td></tr><tr><th>19</th><td>ABCG8</td><td>NE</td><td>5.10241</td><td>-0.190708</td><td>-0.186226</td><td>-0.191004</td><td>-0.189671</td></tr><tr><th>20</th><td>ABHD12B</td><td>NE</td><td>5.10239</td><td>-0.189844</td><td>-0.184388</td><td>-0.19127</td><td>-0.191131</td></tr><tr><th>21</th><td>ABHD14B</td><td>NE</td><td>5.10146</td><td>-0.194702</td><td>-0.177968</td><td>-0.174755</td><td>-0.194391</td></tr><tr><th>22</th><td>ABHD16A</td><td>NE</td><td>5.10184</td><td>-0.191207</td><td>-0.179509</td><td>-0.187787</td><td>-0.192855</td></tr><tr><th>23</th><td>ABHD16B</td><td>NE</td><td>5.06254</td><td>-0.236674</td><td>0.00849928</td><td>-0.062524</td><td>-0.208645</td></tr><tr><th>24</th><td>ABHD17B</td><td>NE</td><td>5.1024</td><td>-0.191043</td><td>-0.187118</td><td>-0.190545</td><td>-0.190297</td></tr><tr><th>25</th><td>ABHD17C</td><td>NE</td><td>5.10248</td><td>-0.189921</td><td>-0.187276</td><td>-0.189571</td><td>-0.18965</td></tr><tr><th>26</th><td>ABHD18</td><td>NE</td><td>5.10247</td><td>-0.189838</td><td>-0.187512</td><td>-0.190057</td><td>-0.189705</td></tr><tr><th>27</th><td>ABHD4</td><td>NE</td><td>5.10181</td><td>-0.191375</td><td>-0.177535</td><td>-0.185555</td><td>-0.191781</td></tr><tr><th>28</th><td>ABHD5</td><td>NE</td><td>5.10238</td><td>-0.189431</td><td>-0.18653</td><td>-0.190423</td><td>-0.191106</td></tr><tr><th>29</th><td>ABHD6</td><td>NE</td><td>5.10247</td><td>-0.190015</td><td>-0.186549</td><td>-0.190098</td><td>-0.189845</td></tr><tr><th>30</th><td>ABHD8</td><td>NE</td><td>5.10171</td><td>-0.193514</td><td>-0.178332</td><td>-0.191448</td><td>-0.191795</td></tr><tr><th>&vellip;</th><td>&vellip;</td><td>&vellip;</td><td>&vellip;</td><td>&vellip;</td><td>&vellip;</td><td>&vellip;</td><td>&vellip;</td></tr></tbody></table>"
      ],
      "text/latex": [
       "\\begin{tabular}{r|cccccccc}\n",
       "\t& name & most\\_freq & gene\\_length & transcript\\_count & gc\\_content & Gtex\\_kidney & gene\\_disease\\_ass\\_count & \\\\\n",
       "\t\\hline\n",
       "\t& String15 & String3 & Float64 & Float64 & Float64 & Float64 & Float64 & \\\\\n",
       "\t\\hline\n",
       "\t1 & A2ML1 & NE & 5.1025 & -0.18949 & -0.186594 & -0.190227 & -0.189655 & $\\dots$ \\\\\n",
       "\t2 & AADAC & NE & 5.1021 & -0.191903 & -0.179672 & -0.192628 & -0.192271 & $\\dots$ \\\\\n",
       "\t3 & AAGAB & NE & 5.10242 & -0.19044 & -0.187288 & -0.189219 & -0.190731 & $\\dots$ \\\\\n",
       "\t4 & AARS1 & E & 5.10231 & -0.186921 & -0.185857 & -0.185807 & -0.192535 & $\\dots$ \\\\\n",
       "\t5 & AASS & NE & 5.10247 & -0.188652 & -0.188019 & -0.189985 & -0.189515 & $\\dots$ \\\\\n",
       "\t6 & ABCA10 & NE & 5.10252 & -0.18866 & -0.187407 & -0.189302 & -0.189257 & $\\dots$ \\\\\n",
       "\t7 & ABCA7 & NE & 5.10233 & -0.188907 & -0.180102 & -0.191129 & -0.190564 & $\\dots$ \\\\\n",
       "\t8 & ABCB7 & E & 5.10249 & -0.189417 & -0.188465 & -0.189763 & -0.189817 & $\\dots$ \\\\\n",
       "\t9 & ABCC1 & NE & 5.10251 & -0.18946 & -0.188325 & -0.189396 & -0.189104 & $\\dots$ \\\\\n",
       "\t10 & ABCC11 & NE & 5.10251 & -0.189012 & -0.186644 & -0.189591 & -0.189529 & $\\dots$ \\\\\n",
       "\t11 & ABCC12 & NE & 5.10249 & -0.189134 & -0.186792 & -0.19012 & -0.189909 & $\\dots$ \\\\\n",
       "\t12 & ABCC4 & NE & 5.10252 & -0.189158 & -0.188663 & -0.189313 & -0.189045 & $\\dots$ \\\\\n",
       "\t13 & ABCC8 & NE & 5.10248 & -0.184339 & -0.187473 & -0.190573 & -0.189356 & $\\dots$ \\\\\n",
       "\t14 & ABCE1 & E & 5.10197 & -0.192763 & -0.188568 & -0.192066 & -0.194119 & $\\dots$ \\\\\n",
       "\t15 & ABCF1 & E & 5.10218 & -0.192432 & -0.184031 & -0.187366 & -0.192432 & $\\dots$ \\\\\n",
       "\t16 & ABCF3 & NE & 5.09756 & -0.19416 & -0.171544 & -0.185288 & -0.200273 & $\\dots$ \\\\\n",
       "\t17 & ABCG2 & NE & 5.10251 & -0.189435 & -0.188074 & -0.189568 & -0.188537 & $\\dots$ \\\\\n",
       "\t18 & ABCG4 & NE & 5.10089 & -0.194513 & -0.175637 & -0.196707 & -0.193393 & $\\dots$ \\\\\n",
       "\t19 & ABCG8 & NE & 5.10241 & -0.190708 & -0.186226 & -0.191004 & -0.189671 & $\\dots$ \\\\\n",
       "\t20 & ABHD12B & NE & 5.10239 & -0.189844 & -0.184388 & -0.19127 & -0.191131 & $\\dots$ \\\\\n",
       "\t21 & ABHD14B & NE & 5.10146 & -0.194702 & -0.177968 & -0.174755 & -0.194391 & $\\dots$ \\\\\n",
       "\t22 & ABHD16A & NE & 5.10184 & -0.191207 & -0.179509 & -0.187787 & -0.192855 & $\\dots$ \\\\\n",
       "\t23 & ABHD16B & NE & 5.06254 & -0.236674 & 0.00849928 & -0.062524 & -0.208645 & $\\dots$ \\\\\n",
       "\t24 & ABHD17B & NE & 5.1024 & -0.191043 & -0.187118 & -0.190545 & -0.190297 & $\\dots$ \\\\\n",
       "\t25 & ABHD17C & NE & 5.10248 & -0.189921 & -0.187276 & -0.189571 & -0.18965 & $\\dots$ \\\\\n",
       "\t26 & ABHD18 & NE & 5.10247 & -0.189838 & -0.187512 & -0.190057 & -0.189705 & $\\dots$ \\\\\n",
       "\t27 & ABHD4 & NE & 5.10181 & -0.191375 & -0.177535 & -0.185555 & -0.191781 & $\\dots$ \\\\\n",
       "\t28 & ABHD5 & NE & 5.10238 & -0.189431 & -0.18653 & -0.190423 & -0.191106 & $\\dots$ \\\\\n",
       "\t29 & ABHD6 & NE & 5.10247 & -0.190015 & -0.186549 & -0.190098 & -0.189845 & $\\dots$ \\\\\n",
       "\t30 & ABHD8 & NE & 5.10171 & -0.193514 & -0.178332 & -0.191448 & -0.191795 & $\\dots$ \\\\\n",
       "\t$\\dots$ & $\\dots$ & $\\dots$ & $\\dots$ & $\\dots$ & $\\dots$ & $\\dots$ & $\\dots$ &  \\\\\n",
       "\\end{tabular}\n"
      ],
      "text/plain": [
       "5661×94 DataFrame. Omitted printing of 89 columns\n",
       "│ Row  │ name     │ most_freq │ gene_length │ transcript_count │ gc_content │\n",
       "│      │ \u001b[90mString15\u001b[39m │ \u001b[90mString3\u001b[39m   │ \u001b[90mFloat64\u001b[39m     │ \u001b[90mFloat64\u001b[39m          │ \u001b[90mFloat64\u001b[39m    │\n",
       "├──────┼──────────┼───────────┼─────────────┼──────────────────┼────────────┤\n",
       "│ 1    │ A2ML1    │ NE        │ 5.1025      │ -0.18949         │ -0.186594  │\n",
       "│ 2    │ AADAC    │ NE        │ 5.1021      │ -0.191903        │ -0.179672  │\n",
       "│ 3    │ AAGAB    │ NE        │ 5.10242     │ -0.19044         │ -0.187288  │\n",
       "│ 4    │ AARS1    │ E         │ 5.10231     │ -0.186921        │ -0.185857  │\n",
       "│ 5    │ AASS     │ NE        │ 5.10247     │ -0.188652        │ -0.188019  │\n",
       "│ 6    │ ABCA10   │ NE        │ 5.10252     │ -0.18866         │ -0.187407  │\n",
       "│ 7    │ ABCA7    │ NE        │ 5.10233     │ -0.188907        │ -0.180102  │\n",
       "│ 8    │ ABCB7    │ E         │ 5.10249     │ -0.189417        │ -0.188465  │\n",
       "│ 9    │ ABCC1    │ NE        │ 5.10251     │ -0.18946         │ -0.188325  │\n",
       "│ 10   │ ABCC11   │ NE        │ 5.10251     │ -0.189012        │ -0.186644  │\n",
       "⋮\n",
       "│ 5651 │ ZRSR2    │ E         │ 5.10234     │ -0.191031        │ -0.186545  │\n",
       "│ 5652 │ ZSCAN23  │ NE        │ 5.10235     │ -0.191168        │ -0.174303  │\n",
       "│ 5653 │ ZSCAN31  │ NE        │ 5.1025      │ -0.187217        │ -0.183481  │\n",
       "│ 5654 │ ZSCAN4   │ NE        │ 5.10231     │ -0.192232        │ -0.171211  │\n",
       "│ 5655 │ ZSCAN5A  │ NE        │ 5.10252     │ -0.188531        │ -0.187603  │\n",
       "│ 5656 │ ZSCAN9   │ NE        │ 5.10223     │ -0.188607        │ -0.167418  │\n",
       "│ 5657 │ ZSWIM2   │ NE        │ 5.10218     │ -0.19188         │ -0.184411  │\n",
       "│ 5658 │ ZSWIM3   │ NE        │ 5.10226     │ -0.192346        │ -0.181133  │\n",
       "│ 5659 │ ZSWIM6   │ NE        │ 5.10252     │ -0.189404        │ -0.188484  │\n",
       "│ 5660 │ ZXDA     │ NE        │ 5.10222     │ -0.192777        │ -0.144567  │\n",
       "│ 5661 │ ZXDB     │ NE        │ 5.10211     │ -0.194626        │ -0.150547  │"
      ]
     },
     "execution_count": 213,
     "metadata": {},
     "output_type": "execute_result"
    }
   ],
   "source": [
    "dfe = CSV.File(\"../KIDNEY/embeddings/PPI_Node2Vec_64.csv\") |> DataFrame    # read the attribute file\n",
    "dfall = innerjoin(dfall,dfe; on=:name)               # join labels/attributes dataframe with embedding"
   ]
  },
  {
   "cell_type": "code",
   "execution_count": 214,
   "id": "fc634bd9",
   "metadata": {},
   "outputs": [
    {
     "data": {
      "text/plain": [
       "((5661, 92), (5661,))"
      ]
     },
     "execution_count": 214,
     "metadata": {},
     "output_type": "execute_result"
    }
   ],
   "source": [
    "X = Matrix(dfall[!, Not(r\"name|most_freq\")])\n",
    "y = vec(Matrix(DataFrames.select(dfall, [:most_freq])))\n",
    "size(X), size(y)"
   ]
  },
  {
   "cell_type": "code",
   "execution_count": 215,
   "id": "c5bd4735",
   "metadata": {},
   "outputs": [
    {
     "name": "stdout",
     "output_type": "stream",
     "text": [
      "accuracy: 0.9176823882706235\n"
     ]
    },
    {
     "data": {
      "text/html": [
       "<table class=\"data-frame\"><thead><tr><th></th><th>NE</th><th>E</th><th>name</th></tr><tr><th></th><th>Int64</th><th>Int64</th><th>String3</th></tr></thead><tbody><p>2 rows × 3 columns</p><tr><th>1</th><td>4699</td><td>130</td><td>NE</td></tr><tr><th>2</th><td>336</td><td>496</td><td>E</td></tr></tbody></table>"
      ],
      "text/latex": [
       "\\begin{tabular}{r|ccc}\n",
       "\t& NE & E & name\\\\\n",
       "\t\\hline\n",
       "\t& Int64 & Int64 & String3\\\\\n",
       "\t\\hline\n",
       "\t1 & 4699 & 130 & NE \\\\\n",
       "\t2 & 336 & 496 & E \\\\\n",
       "\\end{tabular}\n"
      ],
      "text/plain": [
       "2×3 DataFrame\n",
       "│ Row │ NE    │ E     │ name    │\n",
       "│     │ \u001b[90mInt64\u001b[39m │ \u001b[90mInt64\u001b[39m │ \u001b[90mString3\u001b[39m │\n",
       "├─────┼───────┼───────┼─────────┤\n",
       "│ 1   │ 4699  │ 130   │ NE      │\n",
       "│ 2   │ 336   │ 496   │ E       │"
      ]
     },
     "metadata": {},
     "output_type": "display_data"
    }
   ],
   "source": [
    "using ScikitLearn.CrossValidation: cross_val_predict\n",
    "using DecisionTree\n",
    "\n",
    "function confussionmatrix(predictions, labels)\n",
    "   classes = vec(unique(labels))\n",
    "   d = size(classes)[1]\n",
    "   idx = Dict(zip(classes,Vector(1:d)))\n",
    "   c = zeros(Int64, d,d)\n",
    "   for i in 1:size(labels)[1]\n",
    "       c[idx[labels[i]] ,idx[predictions[i]]] += 1 \n",
    "   end \n",
    "   df = DataFrame(c, classes)\n",
    "   df[!, :name] = classes\n",
    "   return df\n",
    "end\n",
    "model = DecisionTree.RandomForestClassifier()\n",
    "ŷ = cross_val_predict(model, X, y; cv=5)\n",
    "y_targets = y\n",
    "accuracy = sum(ŷ .== y_targets) / length(y_targets)\n",
    "println(\"accuracy: $accuracy\")\n",
    "display(confussionmatrix(ŷ,y))"
   ]
  },
  {
   "cell_type": "code",
   "execution_count": null,
   "id": "a076b62c",
   "metadata": {},
   "outputs": [],
   "source": []
  }
 ],
 "metadata": {
  "kernelspec": {
   "display_name": "Julia 1.7.3",
   "language": "julia",
   "name": "julia-1.7"
  },
  "language_info": {
   "file_extension": ".jl",
   "mimetype": "application/julia",
   "name": "julia",
   "version": "1.7.3"
  }
 },
 "nbformat": 4,
 "nbformat_minor": 5
}
