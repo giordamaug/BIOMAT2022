{
 "cells": [
  {
   "cell_type": "code",
   "execution_count": 2,
   "metadata": {},
   "outputs": [],
   "source": [
    "import pandas as pd\n",
    "import numpy as np\n",
    "import os\n",
    "import sys\n",
    "if 'google.colab' in sys.modules:\n",
    "\timport tqdm.notebook as tq\n",
    "else:\n",
    "\timport tqdm as tq\n",
    "import pandas as pd"
   ]
  },
  {
   "cell_type": "code",
   "execution_count": 3,
   "metadata": {},
   "outputs": [],
   "source": [
    "#@title  { form-width: \"10%\" }\n",
    "seed = 0 #@param {type:\"integer\"}\n",
    "class bcolors:\n",
    "    HEADER = '\\033[95m\\033[1m'\n",
    "    OKBLUE = '\\033[94m'\n",
    "    OKCYAN = '\\033[96m'\n",
    "    OKGREEN = '\\033[92m'\n",
    "    WARNING = '\\033[93m'\n",
    "    FAIL = '\\033[91m'\n",
    "    ENDC = '\\033[0m'\n",
    "    BOLD = '\\033[1m'\n",
    "    UNDERLINE = '\\033[4m'\n",
    "\n",
    "classifier_map = {'RF' : 'RandomForestClassifier', \n",
    "                  'MLP': 'MLPClassifier', \n",
    "                  'SVM' : 'SVC', \n",
    "                  'RUS':  'RUSBoostClassifier',\n",
    "                  'XGB': 'XGBClassifier',\n",
    "                  'LGBM': 'LGBMClassifier'}\n",
    "\n",
    "classifiers_args = {\n",
    "  'RF' : {'random_state' : seed, 'class_weight': 'balanced'}, \n",
    "  'MLP': {'random_state' : seed}, \n",
    "  'SVM' : {'random_state' : seed, 'class_weight': 'balanced'}, \n",
    "  'RUS': {'random_state' : seed},\n",
    "  'XGB': {'random_state' : seed, 'eval_metric' : 'logloss', 'scale_pos_weight' : 0.2},\n",
    "  'LGBM': {'random_state' : seed, 'class_weight': 'balanced'}\n",
    "}"
   ]
  },
  {
   "cell_type": "code",
   "execution_count": 10,
   "metadata": {},
   "outputs": [
    {
     "name": "stdout",
     "output_type": "stream",
     "text": [
      "\tWorking on label y: {'E': 0, 'aE': 1, 'aNE + NE': 2} ['E' 'aE' 'aNE + NE'] Counter({'aNE + NE': 15777, 'E': 862, 'aE': 747})\n",
      "\tWorking on label yy: {'E + aE': 0, 'aNE + NE': 1} ['E + aE' 'aNE + NE'] Counter({'aNE + NE': 15777, 'E + aE': 1609})\n"
     ]
    }
   ],
   "source": [
    "from collections import Counter, OrderedDict\n",
    "import matplotlib.pyplot as plt\n",
    "from sklearn.preprocessing import LabelEncoder\n",
    "df = pd.read_csv(\"/Users/maurizio/BIOMAT2022/KIDNEY/dataset.csv\", index_col=0)\n",
    "df[\"label\"] = df.apply(lambda row: \"E + aE\" if row.most_freq in [\"E\", \"aE\"] else row.most_freq, axis=1)\n",
    "ylabels = df[\"most_freq\"].values\n",
    "yylabels = df[\"label\"].values\n",
    "ydistrib = Counter(ylabels)\n",
    "yencoder = LabelEncoder()\n",
    "y = yencoder.fit_transform(ylabels)  \n",
    "yclasses_mapping = dict(zip(yencoder.classes_, yencoder.transform(yencoder.classes_)))\n",
    "yrev_classes_mapping = np.array(list(yclasses_mapping.keys()))\n",
    "yydistrib = Counter(yylabels)\n",
    "yyencoder = LabelEncoder()\n",
    "yy = yyencoder.fit_transform(yylabels)  \n",
    "yyclasses_mapping = dict(zip(yyencoder.classes_, yyencoder.transform(yyencoder.classes_)))\n",
    "yyrev_classes_mapping = np.array(list(yyclasses_mapping.keys()))\n",
    "\n",
    "print(f'\\tWorking on label y: {yclasses_mapping} {yrev_classes_mapping} {ydistrib}')\n",
    "print(f'\\tWorking on label yy: {yyclasses_mapping} {yyrev_classes_mapping} {yydistrib}')\n",
    "X = df.loc[:, ~df.columns.isin(['most_freq', 'label'])].to_numpy()"
   ]
  },
  {
   "cell_type": "code",
   "execution_count": 6,
   "metadata": {},
   "outputs": [
    {
     "data": {
      "text/plain": [
       "array([0, 1, 2])"
      ]
     },
     "execution_count": 6,
     "metadata": {},
     "output_type": "execute_result"
    }
   ],
   "source": [
    "len(y[np.where(yy == 0)])\n",
    "np.unique(y)"
   ]
  },
  {
   "cell_type": "code",
   "execution_count": 20,
   "metadata": {},
   "outputs": [
    {
     "name": "stdout",
     "output_type": "stream",
     "text": [
      "\u001b[95m\u001b[1mClassification with method LGBM...\u001b[0m\n"
     ]
    },
    {
     "name": "stderr",
     "output_type": "stream",
     "text": [
      "5-fold: 100%|██████████| 5/5 [00:15<00:00,  3.17s/it]\n"
     ]
    },
    {
     "data": {
      "image/png": "[encoded data removed]",
      "text/plain": [
       "<Figure size 432x288 with 2 Axes>"
      ]
     },
     "metadata": {
      "needs_background": "light"
     },
     "output_type": "display_data"
    },
    {
     "name": "stdout",
     "output_type": "stream",
     "text": [
      "\u001b[92m+------+-------------+-------------+---------------+---------------+-------------+-----------------------+\n",
      "|      | Accuracy    | BA          | Sensitivity   | Specificity   | MCC         | CM                    |\n",
      "|------+-------------+-------------+---------------+---------------+-------------+-----------------------|\n",
      "| LGBM | 0.921±0.003 | 0.463±0.033 | 0.861±0.077   | 0.469±0.140   | 0.395±0.043 | [[  282    40   540]  |\n",
      "|      |             |             |               |               |             |  [   59    50   638]  |\n",
      "|      |             |             |               |               |             |  [   73    17 15687]] |\n",
      "+------+-------------+-------------+---------------+---------------+-------------+-----------------------+\u001b[0m\n"
     ]
    }
   ],
   "source": [
    "from sklearn.model_selection import StratifiedKFold, KFold, train_test_split\n",
    "from tqdm import tqdm\n",
    "from sklearn.metrics import *\n",
    "from sklearn.ensemble import AdaBoostClassifier\n",
    "from imblearn.ensemble import RUSBoostClassifier\n",
    "from sklearn.dummy import DummyClassifier\n",
    "from lightgbm import LGBMClassifier\n",
    "from tabulate import tabulate\n",
    "\n",
    "method = 'LGBM'\n",
    "nclasses = len(yclasses_mapping)\n",
    "nfolds = 5\n",
    "kf = StratifiedKFold(n_splits=nfolds, shuffle=True, random_state=1)\n",
    "accuracies, mccs = [], []\n",
    "cma = np.zeros(shape=(nclasses,nclasses), dtype=int)\n",
    "cmp = np.zeros(shape=(nclasses-1,nclasses-1), dtype=int)\n",
    "\n",
    "predictions = np.array([])\n",
    "columns_names = [\"Accuracy\",\"BA\", \"Sensitivity\", \"Specificity\",\"MCC\", 'CM']\n",
    "scores = pd.DataFrame(columns=columns_names)\n",
    "scoresp = pd.DataFrame(columns=columns_names)\n",
    "print(bcolors.HEADER +  f'Classification with method LGBM...' + bcolors.ENDC)\n",
    "for fold, (train_idx, test_idx) in enumerate(tqdm(kf.split(np.arange(len(X)), y), total=kf.get_n_splits(), desc=f\"{nfolds}-fold\")):\n",
    "    train_x, train_y, test_x, test_y, targets = X[train_idx], yy[train_idx], X[test_idx], yy[test_idx], y[test_idx]\n",
    "    #print(train_idx, np.unique(train_y))\n",
    "    train_idx_2 = np.where(yy[train_idx] == 0)\n",
    "    test_idx_2 = np.where(yy[test_idx] == 0)\n",
    "    #print(train_idx_2, test_idx_2)\n",
    "    train_xx, train_yy = X[train_idx_2], y[train_idx_2]\n",
    "    #mm = np.concatenate((mm, test_idx))\n",
    "    #yy = np.concatenate((yy, test_y))\n",
    "    clf1 = LGBMClassifier(**classifiers_args[method])\n",
    "    clf1.fit(train_x, train_y)\n",
    "    clf2 = LGBMClassifier(**classifiers_args[method])\n",
    "    clf2.fit(train_xx, train_yy)\n",
    "    \n",
    "    preds = clf1.predict(test_x)\n",
    "    idxs = np.where(preds == 0)\n",
    "    pp = np.copy(preds)\n",
    "    preds[preds>0] = 2 \n",
    "    preds[idxs] = clf2.predict(test_x[idxs])\n",
    "    cm = confusion_matrix(targets, preds)\n",
    "    cma += cm.astype(int)\n",
    "    cp = confusion_matrix(test_y, pp)\n",
    "    cmp += cp.astype(int)\n",
    "\n",
    "    scores = scores.append(pd.DataFrame([[accuracy_score(targets, preds), balanced_accuracy_score(targets, preds), \n",
    "        cm[0,0]/(cm[0,0]+cm[0,1]), cm[1,1]/(cm[1,0]+cm[1,1]), \n",
    "        matthews_corrcoef(targets, preds), cm]], columns=columns_names, index=[fold]))\n",
    "    scoresp = scoresp.append(pd.DataFrame([[accuracy_score(test_y, pp), balanced_accuracy_score(test_y, pp), \n",
    "        cp[0,0]/(cp[0,0]+cm[0,1]), cp[1,1]/(cp[1,0]+cp[1,1]), \n",
    "        matthews_corrcoef(test_y, pp), cm]], columns=columns_names, index=[fold]))\n",
    "dfm_scores = pd.DataFrame(scores.mean(axis=0, numeric_only=True)).T\n",
    "dfs_scores = pd.DataFrame(scores.std(axis=0, numeric_only=True)).T\n",
    "df_scores = pd.DataFrame([f'{row[0]:.3f}±{row[1]:.3f}' for row in pd.concat([dfm_scores,dfs_scores], axis=0).T.values.tolist()]).T\n",
    "df_scores.index=[f'{method}']\n",
    "df_scores['CM'] = [cma]\n",
    "df_scores.columns = columns_names\n",
    "disp = ConfusionMatrixDisplay(confusion_matrix=cma, display_labels=['E', 'aE', 'aNE + NE'])\n",
    "disp.plot(cmap=\"Blues\")\n",
    "plt.show()\n",
    "print(bcolors.OKGREEN +  tabulate(df_scores, headers='keys', tablefmt='psql') + bcolors.ENDC)"
   ]
  },
  {
   "cell_type": "code",
   "execution_count": 22,
   "metadata": {},
   "outputs": [
    {
     "data": {
      "image/png": "[encoded data removed]",
      "text/plain": [
       "<Figure size 432x288 with 2 Axes>"
      ]
     },
     "metadata": {
      "needs_background": "light"
     },
     "output_type": "display_data"
    },
    {
     "name": "stdout",
     "output_type": "stream",
     "text": [
      "\u001b[92m+------+-------------+-------------+---------------+---------------+-------------+-----------------+\n",
      "|      | Accuracy    | BA          | Sensitivity   | Specificity   | MCC         | CM              |\n",
      "|------+-------------+-------------+---------------+---------------+-------------+-----------------|\n",
      "| LGBM | 0.916±0.003 | 0.803±0.009 | 0.964±0.011   | 0.941±0.004   | 0.551±0.014 | [[ 1071   538]  |\n",
      "|      |             |             |               |               |             |  [  929 14848]] |\n",
      "+------+-------------+-------------+---------------+---------------+-------------+-----------------+\u001b[0m\n"
     ]
    }
   ],
   "source": [
    "dfm_scoresp = pd.DataFrame(scoresp.mean(axis=0, numeric_only=True)).T\n",
    "dfs_scoresp = pd.DataFrame(scoresp.std(axis=0, numeric_only=True)).T\n",
    "df_scoresp = pd.DataFrame([f'{row[0]:.3f}±{row[1]:.3f}' for row in pd.concat([dfm_scoresp,dfs_scoresp], axis=0).T.values.tolist()]).T\n",
    "df_scoresp.index=[f'{method}']\n",
    "df_scoresp['CM'] = [cmp]\n",
    "df_scoresp.columns = columns_names\n",
    "disp = ConfusionMatrixDisplay(confusion_matrix=cmp , display_labels=['E + aE', 'aNE + NE'])\n",
    "disp.plot(cmap=\"Blues\")\n",
    "plt.show()\n",
    "print(bcolors.OKGREEN +  tabulate(df_scoresp, headers='keys', tablefmt='psql') + bcolors.ENDC)"
   ]
  }
 ],
 "metadata": {
  "kernelspec": {
   "display_name": "base",
   "language": "python",
   "name": "python3"
  },
  "language_info": {
   "codemirror_mode": {
    "name": "ipython",
    "version": 3
   },
   "file_extension": ".py",
   "mimetype": "text/x-python",
   "name": "python",
   "nbconvert_exporter": "python",
   "pygments_lexer": "ipython3",
   "version": "3.8.3 (default, Jul  2 2020, 11:26:31) \n[Clang 10.0.0 ]"
  },
  "orig_nbformat": 4,
  "vscode": {
   "interpreter": {
    "hash": "bc6e667b201477635ba32fc377e71e93fe0ce3fc2d2fb508931525558f52d375"
   }
  }
 },
 "nbformat": 4,
 "nbformat_minor": 2
}
