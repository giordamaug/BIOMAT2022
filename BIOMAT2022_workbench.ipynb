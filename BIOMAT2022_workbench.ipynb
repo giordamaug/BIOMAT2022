{
  "cells": [
    {
      "cell_type": "markdown",
      "metadata": {
        "id": "insTruhmeVwv"
      },
      "source": [
        "<a href=\"https://colab.research.google.com/github/giordamaug/BIOMAT2022/blob/main/BIOMAT2022 workbench.ipynb\" target=\"_parent\"><img src=\"https://colab.research.google.com/assets/colab-badge.svg\" alt=\"Open In Colab\"/></a>\n",
        "# Cloning BIOMAT2022 repository"
      ]
    },
    {
      "cell_type": "code",
      "execution_count": 4,
      "metadata": {
        "colab": {
          "base_uri": "https://localhost:8080/"
        },
        "id": "4fnELskmeVwy",
        "outputId": "9c25145a-c428-459c-842f-2242e4624213"
      },
      "outputs": [
        {
          "output_type": "stream",
          "name": "stdout",
          "text": [
            "fatal: destination path 'BIOMAT2022' already exists and is not an empty directory.\n",
            "/content/BIOMAT2022\n"
          ]
        }
      ],
      "source": [
        "!git clone http://github.com/giordamaug/BIOMAT2022\n",
        "!pip install -q karateclub\n",
        "!pip install -q lightgbm\n",
        "%cd /content/BIOMAT2022"
      ]
    },
    {
      "cell_type": "markdown",
      "metadata": {
        "id": "tWEJCtKlnB9l"
      },
      "source": [
        " # Run the script\n",
        "\n",
        "Usage: `nodeclassification.py`\n",
        "\n",
        "`[-h]`  : print this help \n",
        "\n",
        "`[-a <attributes> [<attributes> ...]]` : attribute sets to consider (`BIO`,`GTEX`,`EMBED`)\n",
        "\n",
        "`[-d <datadir>]` : directory of input files\n",
        "\n",
        "`[-l <labelname>]` : type of label to comsider\n",
        "\n",
        "use: `label_CS_ACH_most_freq` for Ilaria's labeling\n",
        "                            \n",
        "`[-n <network>]` : network to consider for embedding (`PPI`,`MET`,`MET+PPI`) - works if `-a ... EMBED`\n",
        "\n",
        "`[-Z <normalize>]` : gene attribute normalization (`None`,`zscore`,`minmax`)\n",
        "\n",
        "`[-e <embedder>]` : embedder method - works if `-a ... EMBED`\n",
        "\n",
        "`[-m <method>]` : classifier method\n",
        "\n",
        "`[-L]` : load precomputed embedding - works if `-a ... EMBED`\n",
        "\n",
        "`[-S]` : save embedding - works if `-a ... EMBED`"
      ]
    },
    {
      "cell_type": "code",
      "execution_count": 6,
      "metadata": {
        "colab": {
          "base_uri": "https://localhost:8080/"
        },
        "id": "3-RObjbCkLlj",
        "outputId": "f0d70b79-3155-46e1-8c2d-3b40f5738943"
      },
      "outputs": [
        {
          "output_type": "stream",
          "name": "stdout",
          "text": [
            "Loading label file \"datasets/multiLabels.csv\"...\n",
            "\u001b[92m\t3814 labeled genes over a total of 12538\u001b[0m\n",
            "\u001b[92m\tWorking on label \"CS0_vs_CS6-9\": {'E': 0, 'NE': 1} {'NE': 3069, 'E': 745}\u001b[0m\n",
            "Loading attribute matrix \"datasets/integratedNet_nodes_bio.csv\"...\n",
            "\u001b[92m\tselecting attributes: ['BIO', 'GTEX', 'EMBED'] for 12538 genes\u001b[0m\n",
            "\u001b[92m\tfound 1996 NaN values and 0 Infinite values\u001b[0m\n",
            "\u001b[92m\tX attributes normalization (zscore)...\u001b[0m\n",
            "\u001b[92m\tNew attribute matrix x(3814, 105)\u001b[0m\n",
            "Loading \"PPI\" network...\n",
            "\u001b[92m\tGraph with 12538 nodes and 569585 edges\u001b[0m\n",
            "\u001b[92m\tThere are 797 isolated genes\u001b[0m\n",
            "\u001b[92m\tGraph is weighted\u001b[0m\n",
            "\u001b[92m\tGraph is not directed\u001b[0m\n",
            "Embedding with method \"Node2Vec\"...\n",
            "\u001b[92m\tLoading embedding from file \"embeddings/PPI_Node2Vec.csv\"\u001b[0m\n",
            "\u001b[92m\tNew attribute matrix x(3814, 233)\u001b[0m\n",
            "Classification with method \"LGBM\"...\n",
            "\u001b[92m5-fold: 100% 5/5 [00:21<00:00,  4.31s/it]\n",
            "\u001b[92m+------+------------+----------+---------------+---------------+----------+---------------+\n",
            "|      |   Accuracy |       BA |   Sensitivity |   Specificity |      MCC | CM            |\n",
            "|------+------------+----------+---------------+---------------+----------+---------------|\n",
            "| LGBM |   0.928424 | 0.851847 |      0.726174 |       0.97752 | 0.761265 | [[ 541  204]  |\n",
            "|      |            |          |               |               |          |  [  69 3000]] |\n",
            "+------+------------+----------+---------------+---------------+----------+---------------+\u001b[0m\n"
          ]
        }
      ],
      "source": [
        "!python nodeclassification.py -d datasets \\\n",
        "                              -Z zscore \\\n",
        "                              -e Node2Vec \\\n",
        "                              -a BIO GTEX EMBED \\\n",
        "                              -e Node2Vec \\\n",
        "                              -n PPI \\\n",
        "                              -L \\\n",
        "                              -m LGBM \\\n",
        "                              -l label_CS_ACH_most_freq"
      ]
    }
  ],
  "metadata": {
    "colab": {
      "collapsed_sections": [],
      "name": "BIOMAT2022 workbench.ipynb",
      "provenance": []
    },
    "kernelspec": {
      "display_name": "Python 3",
      "name": "python3"
    },
    "language_info": {
      "name": "python"
    }
  },
  "nbformat": 4,
  "nbformat_minor": 0
}